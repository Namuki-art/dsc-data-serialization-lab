{
 "cells": [
  {
   "cell_type": "code",
   "execution_count": 21,
   "metadata": {},
   "outputs": [],
   "source": [
    "import json\n",
    "import csv"
   ]
  },
  {
   "cell_type": "code",
   "execution_count": 22,
   "metadata": {},
   "outputs": [],
   "source": [
    "# Run this cell without changes\n",
    "world_cup_file = open(\"data/world_cup_2018.json\", encoding=\"utf8\")\n",
    "population_file = open(\"data/country_populations.csv\")"
   ]
  },
  {
   "cell_type": "code",
   "execution_count": 33,
   "metadata": {},
   "outputs": [],
   "source": [
    "world_cup_file.seek(0)\n",
    "world_cup_data = json.load(world_cup_file)\n"
   ]
  },
  {
   "cell_type": "code",
   "execution_count": 29,
   "metadata": {},
   "outputs": [
    {
     "name": "stdout",
     "output_type": "stream",
     "text": [
      "{'name': 'World Cup 2018', 'rounds': [{'name': 'Matchday 1', 'matches': [{'num': 1, 'date': '2018-06-14', 'time': '18:00', 'team1': {'name': 'Russia', 'code': 'RUS'}, 'team2': {'name': 'Saudi Arabia', 'code': 'KSA'}, 'score1': 5, 'score2': 0, 'score1i': 2, 'score2i': 0, 'goals1': [{'name': 'Gazinsky', 'minute': 12, 'score1': 1, 'score2': 0}, {'name': 'Cheryshev', 'minute': 43, 'score1': 2, 'score2': 0}, {'name': 'Dzyuba', 'minute': 71, 'score1': 3, 'score2': 0}, {'name': 'Cheryshev', 'minute': 90, 'offset': 1, 'score1': 4, 'score2': 0}, {'name': 'Golovin', 'minute': 90, 'offset': 4, 'score1': 5, 'score2': 0}], 'goals2': [], 'group': 'Group A', 'stadium': {'key': 'luzhniki', 'name': 'Luzhniki Stadium'}, 'city': 'Moscow', 'timezone': 'UTC+3'}]}, {'name': 'Matchday 2', 'matches': [{'num': 2, 'date': '2018-06-15', 'time': '17:00', 'team1': {'name': 'Egypt', 'code': 'EGY'}, 'team2': {'name': 'Uruguay', 'code': 'URU'}, 'score1': 0, 'score2': 1, 'score1i': 0, 'score2i': 0, 'goals1': [], 'goals2': [{'name': 'Giménez', 'minute': 89, 'score1': 0, 'score2': 1}], 'group': 'Group A', 'stadium': {'key': 'ekaterinburg', 'name': 'Ekaterinburg Arena'}, 'city': 'Ekaterinburg', 'timezone': 'UTC+5'}, {'num': 3, 'date': '2018-06-15', 'time': '21:00', 'team1': {'name': 'Portugal', 'code': 'POR'}, 'team2': {'name': 'Spain', 'code': 'ESP'}, 'score1': 3, 'score2': 3, 'score1i': 2, 'score2i': 1, 'goals1': [{'name': 'Ronaldo', 'minute': 4, 'score1': 1, 'score2': 0, 'penalty': True}, {'name': 'Ronaldo', 'minute': 44, 'score1': 2, 'score2': 1}, {'name': 'Ronaldo', 'minute': 88, 'score1': 3, 'score2': 3}], 'goals2': [{'name': 'Costa', 'minute': 24, 'score1': 1, 'score2': 1}, {'name': 'Costa', 'minute': 55, 'score1': 2, 'score2': 2}, {'name': 'Nacho', 'minute': 58, 'score1': 2, 'score2': 3}], 'group': 'Group B', 'stadium': {'key': 'fisht', 'name': 'Fisht Stadium'}, 'city': 'Sochi', 'timezone': 'UTC+3'}, {'num': 4, 'date': '2018-06-15', 'time': '18:00', 'team1': {'name': 'Morocco', 'code': 'MAR'}, 'team2': {'name': 'Iran', 'code': 'IRN'}, 'score1': 0, 'score2': 1, 'score1i': 0, 'score2i': 0, 'goals1': [], 'goals2': [{'name': 'Bouhaddouz', 'minute': 90, 'offset': 5, 'score1': 0, 'score2': 1, 'owngoal': True}], 'group': 'Group B', 'stadium': {'key': 'saintpetersburg', 'name': 'Saint Petersburg Stadium'}, 'city': 'Saint Petersburg', 'timezone': 'UTC+3'}]}, {'name': 'Matchday 3', 'matches': [{'num': 5, 'date': '2018-06-16', 'time': '13:00', 'team1': {'name': 'France', 'code': 'FRA'}, 'team2': {'name': 'Australia', 'code': 'AUS'}, 'score1': 2, 'score2': 1, 'score1i': 0, 'score2i': 0, 'goals1': [{'name': 'Griezmann', 'minute': 58, 'score1': 1, 'score2': 0, 'penalty': True}, {'name': 'Behich', 'minute': 81, 'score1': 2, 'score2': 1, 'owngoal': True}], 'goals2': [{'name': 'Jedinak', 'minute': 62, 'score1': 1, 'score2': 1, 'penalty': True}], 'group': 'Group C', 'stadium': {'key': 'kazan', 'name': 'Kazan Arena'}, 'city': 'Kazan', 'timezone': 'UTC+3'}, {'num': 6, 'date': '2018-06-16', 'time': '19:00', 'team1': {'name': 'Peru', 'code': 'PER'}, 'team2': {'name': 'Denmark', 'code': 'DEN'}, 'score1': 0, 'score2': 1, 'score1i': 0, 'score2i': 0, 'goals1': [], 'goals2': [{'name': 'Poulsen', 'minute': 59, 'score1': 0, 'score2': 1}], 'group': 'Group C', 'stadium': {'key': 'mordovia', 'name': 'Mordovia Arena'}, 'city': 'Saransk', 'timezone': 'UTC+3'}, {'num': 7, 'date': '2018-06-16', 'time': '16:00', 'team1': {'name': 'Argentina', 'code': 'ARG'}, 'team2': {'name': 'Iceland', 'code': 'ISL'}, 'score1': 1, 'score2': 1, 'score1i': 1, 'score2i': 1, 'goals1': [{'name': 'Agüero', 'minute': 19, 'score1': 1, 'score2': 0}], 'goals2': [{'name': 'Finnbogason', 'minute': 23, 'score1': 1, 'score2': 1}], 'group': 'Group D', 'stadium': {'key': 'spartak', 'name': 'Spartak Stadium'}, 'city': 'Moscow', 'timezone': 'UTC+3'}, {'num': 8, 'date': '2018-06-16', 'time': '21:00', 'team1': {'name': 'Croatia', 'code': 'CRO'}, 'team2': {'name': 'Nigeria', 'code': 'NGA'}, 'score1': 2, 'score2': 0, 'score1i': 1, 'score2i': 0, 'goals1': [{'name': 'Etebo', 'minute': 32, 'score1': 1, 'score2': 0, 'owngoal': True}, {'name': 'Modrić', 'minute': 71, 'score1': 2, 'score2': 0, 'penalty': True}], 'goals2': [], 'group': 'Group D', 'stadium': {'key': 'kaliningrad', 'name': 'Kaliningrad Stadium'}, 'city': 'Kaliningrad', 'timezone': 'UTC+2'}]}, {'name': 'Matchday 4', 'matches': [{'num': 9, 'date': '2018-06-17', 'time': '21:00', 'team1': {'name': 'Brazil', 'code': 'BRA'}, 'team2': {'name': 'Switzerland', 'code': 'SUI'}, 'score1': 1, 'score2': 1, 'score1i': 1, 'score2i': 0, 'goals1': [{'name': 'Coutinho', 'minute': 20, 'score1': 1, 'score2': 0}], 'goals2': [{'name': 'Zuber', 'minute': 50, 'score1': 1, 'score2': 1}], 'group': 'Group E', 'stadium': {'key': 'rostov', 'name': 'Rostov Arena'}, 'city': 'Rostov-on-Don', 'timezone': 'UTC+3'}, {'num': 10, 'date': '2018-06-17', 'time': '16:00', 'team1': {'name': 'Costa Rica', 'code': 'CRC'}, 'team2': {'name': 'Serbia', 'code': 'SRB'}, 'score1': 0, 'score2': 1, 'score1i': 0, 'score2i': 0, 'goals1': [], 'goals2': [{'name': 'Kolarov', 'minute': 56, 'score1': 0, 'score2': 1}], 'group': 'Group E', 'stadium': {'key': 'samara', 'name': 'Samara Arena'}, 'city': 'Samara', 'timezone': 'UTC+4'}, {'num': 11, 'date': '2018-06-17', 'time': '18:00', 'team1': {'name': 'Germany', 'code': 'GER'}, 'team2': {'name': 'Mexico', 'code': 'MEX'}, 'score1': 0, 'score2': 1, 'score1i': 0, 'score2i': 1, 'goals1': [], 'goals2': [{'name': 'Lozano', 'minute': 35, 'score1': 0, 'score2': 1}], 'group': 'Group F', 'stadium': {'key': 'luzhniki', 'name': 'Luzhniki Stadium'}, 'city': 'Moscow', 'timezone': 'UTC+3'}]}, {'name': 'Matchday 5', 'matches': [{'num': 12, 'date': '2018-06-18', 'time': '15:00', 'team1': {'name': 'Sweden', 'code': 'SWE'}, 'team2': {'name': 'South Korea', 'code': 'KOR'}, 'score1': 1, 'score2': 0, 'score1i': 0, 'score2i': 0, 'goals1': [{'name': 'Granqvist', 'minute': 65, 'score1': 1, 'score2': 0, 'penalty': True}], 'goals2': [], 'group': 'Group F', 'stadium': {'key': 'nizhnynovgorod', 'name': 'Nizhny Novgorod Stadium'}, 'city': 'Nizhny Novgorod', 'timezone': 'UTC+3'}, {'num': 13, 'date': '2018-06-18', 'time': '18:00', 'team1': {'name': 'Belgium', 'code': 'BEL'}, 'team2': {'name': 'Panama', 'code': 'PAN'}, 'score1': 3, 'score2': 0, 'score1i': 0, 'score2i': 0, 'goals1': [{'name': 'Mertens', 'minute': 47, 'score1': 1, 'score2': 0}, {'name': 'Lukaku', 'minute': 69, 'score1': 2, 'score2': 0}, {'name': 'Lukaku', 'minute': 75, 'score1': 3, 'score2': 0}], 'goals2': [], 'group': 'Group G', 'stadium': {'key': 'fisht', 'name': 'Fisht Stadium'}, 'city': 'Sochi', 'timezone': 'UTC+3'}, {'num': 14, 'date': '2018-06-18', 'time': '21:00', 'team1': {'name': 'Tunisia', 'code': 'TUN'}, 'team2': {'name': 'England', 'code': 'ENG'}, 'score1': 1, 'score2': 2, 'score1i': 1, 'score2i': 1, 'goals1': [{'name': 'Sassi', 'minute': 35, 'score1': 1, 'score2': 1, 'penalty': True}], 'goals2': [{'name': 'Kane', 'minute': 11, 'score1': 0, 'score2': 1}, {'name': 'Kane', 'minute': 90, 'offset': 1, 'score1': 1, 'score2': 2}], 'group': 'Group G', 'stadium': {'key': 'volgograd', 'name': 'Volgograd Arena'}, 'city': 'Volgograd', 'timezone': 'UTC+3'}]}, {'name': 'Matchday 6', 'matches': [{'num': 15, 'date': '2018-06-19', 'time': '18:00', 'team1': {'name': 'Poland', 'code': 'POL'}, 'team2': {'name': 'Senegal', 'code': 'SEN'}, 'score1': 1, 'score2': 2, 'score1i': 0, 'score2i': 1, 'goals1': [{'name': 'Krychowiak', 'minute': 86, 'score1': 1, 'score2': 2}], 'goals2': [{'name': 'Cionek', 'minute': 37, 'score1': 0, 'score2': 1, 'owngoal': True}, {'name': 'Niang', 'minute': 60, 'score1': 0, 'score2': 2}], 'group': 'Group H', 'stadium': {'key': 'spartak', 'name': 'Spartak Stadium'}, 'city': 'Moscow', 'timezone': 'UTC+3'}, {'num': 16, 'date': '2018-06-19', 'time': '15:00', 'team1': {'name': 'Colombia', 'code': 'COL'}, 'team2': {'name': 'Japan', 'code': 'JPN'}, 'score1': 1, 'score2': 2, 'score1i': 1, 'score2i': 1, 'goals1': [{'name': 'J. Quintero', 'minute': 39, 'score1': 1, 'score2': 1}], 'goals2': [{'name': 'Kagawa', 'minute': 6, 'score1': 0, 'score2': 1, 'penalty': True}, {'name': 'Osako', 'minute': 73, 'score1': 1, 'score2': 2}], 'group': 'Group H', 'stadium': {'key': 'mordovia', 'name': 'Mordovia Arena'}, 'city': 'Saransk', 'timezone': 'UTC+3'}, {'num': 17, 'date': '2018-06-19', 'time': '21:00', 'team1': {'name': 'Russia', 'code': 'RUS'}, 'team2': {'name': 'Egypt', 'code': 'EGY'}, 'score1': 3, 'score2': 1, 'score1i': 0, 'score2i': 0, 'goals1': [{'name': 'A. Fathi', 'minute': 47, 'score1': 1, 'score2': 0, 'owngoal': True}, {'name': 'Cheryshev', 'minute': 59, 'score1': 2, 'score2': 0}, {'name': 'Dzyuba', 'minute': 62, 'score1': 3, 'score2': 0}], 'goals2': [{'name': 'M. Salah', 'minute': 73, 'score1': 3, 'score2': 1, 'penalty': True}], 'group': 'Group A', 'stadium': {'key': 'saintpetersburg', 'name': 'Saint Petersburg Stadium'}, 'city': 'Saint Petersburg', 'timezone': 'UTC+3'}]}, {'name': 'Matchday 7', 'matches': [{'num': 18, 'date': '2018-06-20', 'time': '18:00', 'team1': {'name': 'Uruguay', 'code': 'URU'}, 'team2': {'name': 'Saudi Arabia', 'code': 'KSA'}, 'score1': 1, 'score2': 0, 'score1i': 1, 'score2i': 0, 'goals1': [{'name': 'L. Suárez', 'minute': 23, 'score1': 1, 'score2': 0}], 'goals2': [], 'group': 'Group A', 'stadium': {'key': 'rostov', 'name': 'Rostov Arena'}, 'city': 'Rostov-on-Don', 'timezone': 'UTC+3'}, {'num': 19, 'date': '2018-06-20', 'time': '15:00', 'team1': {'name': 'Portugal', 'code': 'POR'}, 'team2': {'name': 'Morocco', 'code': 'MAR'}, 'score1': 1, 'score2': 0, 'score1i': 1, 'score2i': 0, 'goals1': [{'name': 'Ronaldo', 'minute': 4, 'score1': 1, 'score2': 0}], 'goals2': [], 'group': 'Group B', 'stadium': {'key': 'luzhniki', 'name': 'Luzhniki Stadium'}, 'city': 'Moscow', 'timezone': 'UTC+3'}, {'num': 20, 'date': '2018-06-20', 'time': '21:00', 'team1': {'name': 'Iran', 'code': 'IRN'}, 'team2': {'name': 'Spain', 'code': 'ESP'}, 'score1': 0, 'score2': 1, 'score1i': 0, 'score2i': 0, 'goals1': [], 'goals2': [{'name': 'Diego Costa', 'minute': 54, 'score1': 0, 'score2': 1}], 'group': 'Group B', 'stadium': {'key': 'kazan', 'name': 'Kazan Arena'}, 'city': 'Kazan', 'timezone': 'UTC+3'}]}, {'name': 'Matchday 8', 'matches': [{'num': 21, 'date': '2018-06-21', 'time': '20:00', 'team1': {'name': 'France', 'code': 'FRA'}, 'team2': {'name': 'Peru', 'code': 'PER'}, 'score1': 1, 'score2': 0, 'score1i': 1, 'score2i': 0, 'goals1': [{'name': 'Mbappé', 'minute': 34, 'score1': 1, 'score2': 0}], 'goals2': [], 'group': 'Group C', 'stadium': {'key': 'ekaterinburg', 'name': 'Ekaterinburg Arena'}, 'city': 'Ekaterinburg', 'timezone': 'UTC+5'}, {'num': 22, 'date': '2018-06-21', 'time': '16:00', 'team1': {'name': 'Denmark', 'code': 'DEN'}, 'team2': {'name': 'Australia', 'code': 'AUS'}, 'score1': 1, 'score2': 1, 'score1i': 1, 'score2i': 1, 'goals1': [{'name': 'Eriksen', 'minute': 7, 'score1': 1, 'score2': 0}], 'goals2': [{'name': 'Jedinak', 'minute': 38, 'score1': 1, 'score2': 1, 'penalty': True}], 'group': 'Group C', 'stadium': {'key': 'samara', 'name': 'Samara Arena'}, 'city': 'Samara', 'timezone': 'UTC+4'}, {'num': 23, 'date': '2018-06-21', 'time': '21:00', 'team1': {'name': 'Argentina', 'code': 'ARG'}, 'team2': {'name': 'Croatia', 'code': 'CRO'}, 'score1': 0, 'score2': 3, 'score1i': 0, 'score2i': 0, 'goals1': [], 'goals2': [{'name': 'Rebić', 'minute': 53, 'score1': 0, 'score2': 1}, {'name': 'Modrić', 'minute': 80, 'score1': 0, 'score2': 2}, {'name': 'Rakitić', 'minute': 90, 'offset': 1, 'score1': 0, 'score2': 3}], 'group': 'Group D', 'stadium': {'key': 'nizhnynovgorod', 'name': 'Nizhny Novgorod Stadium'}, 'city': 'Nizhny Novgorod', 'timezone': 'UTC+3'}]}, {'name': 'Matchday 9', 'matches': [{'num': 24, 'date': '2018-06-22', 'time': '18:00', 'team1': {'name': 'Nigeria', 'code': 'NGA'}, 'team2': {'name': 'Iceland', 'code': 'ISL'}, 'score1': 2, 'score2': 0, 'score1i': 0, 'score2i': 0, 'goals1': [{'name': 'Musa', 'minute': 49, 'score1': 1, 'score2': 0}, {'name': 'Musa', 'minute': 75, 'score1': 2, 'score2': 0}], 'goals2': [], 'group': 'Group D', 'stadium': {'key': 'volgograd', 'name': 'Volgograd Arena'}, 'city': 'Volgograd', 'timezone': 'UTC+3'}, {'num': 25, 'date': '2018-06-22', 'time': '15:00', 'team1': {'name': 'Brazil', 'code': 'BRA'}, 'team2': {'name': 'Costa Rica', 'code': 'CRC'}, 'score1': 2, 'score2': 0, 'score1i': 0, 'score2i': 0, 'group': 'Group E', 'stadium': {'key': 'saintpetersburg', 'name': 'Saint Petersburg Stadium'}, 'city': 'Saint Petersburg', 'timezone': 'UTC+3'}, {'num': 26, 'date': '2018-06-22', 'time': '20:00', 'team1': {'name': 'Serbia', 'code': 'SRB'}, 'team2': {'name': 'Switzerland', 'code': 'SUI'}, 'score1': 1, 'score2': 2, 'score1i': 1, 'score2i': 0, 'goals1': [{'name': 'Mitrović', 'minute': 5, 'score1': 1, 'score2': 0}], 'goals2': [{'name': 'Xhaka', 'minute': 52, 'score1': 1, 'score2': 1}, {'name': 'Shaqiri', 'minute': 90, 'score1': 1, 'score2': 2}], 'group': 'Group E', 'stadium': {'key': 'kaliningrad', 'name': 'Kaliningrad Stadium'}, 'city': 'Kaliningrad', 'timezone': 'UTC+2'}]}, {'name': 'Matchday 10', 'matches': [{'num': 27, 'date': '2018-06-23', 'time': '21:00', 'team1': {'name': 'Germany', 'code': 'GER'}, 'team2': {'name': 'Sweden', 'code': 'SWE'}, 'score1': 2, 'score2': 1, 'score1i': 0, 'score2i': 1, 'goals1': [{'name': 'Reus', 'minute': 48, 'score1': 1, 'score2': 1}, {'name': 'Kroos', 'minute': 90, 'offset': 5, 'score1': 2, 'score2': 1}], 'goals2': [{'name': 'Toivonen', 'minute': 32, 'score1': 0, 'score2': 1}], 'group': 'Group F', 'stadium': {'key': 'fisht', 'name': 'Fisht Stadium'}, 'city': 'Sochi', 'timezone': 'UTC+3'}, {'num': 28, 'date': '2018-06-23', 'time': '18:00', 'team1': {'name': 'South Korea', 'code': 'KOR'}, 'team2': {'name': 'Mexico', 'code': 'MEX'}, 'score1': 1, 'score2': 2, 'score1i': 0, 'score2i': 1, 'goals1': [{'name': 'Son Heung-min', 'minute': 90, 'offset': 3, 'score1': 1, 'score2': 2}], 'goals2': [{'name': 'Carlos V.', 'minute': 26, 'score1': 0, 'score2': 1, 'penalty': True}, {'name': 'J. Hernández', 'minute': 66, 'score1': 0, 'score2': 2}], 'group': 'Group F', 'stadium': {'key': 'rostov', 'name': 'Rostov Arena'}, 'city': 'Rostov-on-Don', 'timezone': 'UTC+3'}, {'num': 29, 'date': '2018-06-23', 'time': '15:00', 'team1': {'name': 'Belgium', 'code': 'BEL'}, 'team2': {'name': 'Tunisia', 'code': 'TUN'}, 'score1': 5, 'score2': 2, 'score1i': 3, 'score2i': 1, 'goals1': [{'name': 'E. Hazard', 'minute': 6, 'score1': 1, 'score2': 0, 'penalty': True}, {'name': 'R. Lukaku', 'minute': 16, 'score1': 2, 'score2': 0}, {'name': 'R. Lukaku', 'minute': 45, 'offset': 3, 'score1': 3, 'score2': 1}, {'name': 'E. Hazard', 'minute': 51, 'score1': 4, 'score2': 1}, {'name': 'Batshuayi', 'minute': 90, 'score1': 5, 'score2': 1}], 'goals2': [{'name': 'Bronn', 'minute': 18, 'score1': 2, 'score2': 1}, {'name': 'Khazri', 'minute': 90, 'offset': 3, 'score1': 5, 'score2': 2}], 'group': 'Group G', 'stadium': {'key': 'spartak', 'name': 'Spartak Stadium'}, 'city': 'Moscow', 'timezone': 'UTC+3'}]}, {'name': 'Matchday 11', 'matches': [{'num': 30, 'date': '2018-06-24', 'time': '15:00', 'team1': {'name': 'England', 'code': 'ENG'}, 'team2': {'name': 'Panama', 'code': 'PAN'}, 'score1': 6, 'score2': 1, 'score1i': 5, 'score2i': 0, 'goals1': [{'name': 'Stones', 'minute': 8, 'score1': 1, 'score2': 0}, {'name': 'Kane', 'minute': 22, 'score1': 2, 'score2': 0, 'penalty': True}, {'name': 'Lingard', 'minute': 36, 'score1': 3, 'score2': 0}, {'name': 'Stones', 'minute': 40, 'score1': 4, 'score2': 0}, {'name': 'Kane', 'minute': 45, 'offset': 1, 'score1': 5, 'score2': 0, 'penalty': True}, {'name': 'Kane', 'minute': 62, 'score1': 6, 'score2': 0}], 'goals2': [{'name': 'Baloy', 'minute': 78, 'score1': 6, 'score2': 1}], 'group': 'Group G', 'stadium': {'key': 'nizhnynovgorod', 'name': 'Nizhny Novgorod Stadium'}, 'city': 'Nizhny Novgorod', 'timezone': 'UTC+3'}, {'num': 31, 'date': '2018-06-24', 'time': '21:00', 'team1': {'name': 'Poland', 'code': 'POL'}, 'team2': {'name': 'Colombia', 'code': 'COL'}, 'score1': 0, 'score2': 3, 'score1i': 0, 'score2i': 1, 'goals1': [], 'goals2': [{'name': 'Y. Mina', 'minute': 40, 'score1': 0, 'score2': 1}, {'name': 'Falcao', 'minute': 70, 'score1': 0, 'score2': 2}, {'name': 'Cuadrado', 'minute': 75, 'score1': 0, 'score2': 3}], 'group': 'Group H', 'stadium': {'key': 'kazan', 'name': 'Kazan Arena'}, 'city': 'Kazan', 'timezone': 'UTC+3'}, {'num': 32, 'date': '2018-06-24', 'time': '20:00', 'team1': {'name': 'Japan', 'code': 'JPN'}, 'team2': {'name': 'Senegal', 'code': 'SEN'}, 'score1': 2, 'score2': 2, 'score1i': 1, 'score2i': 1, 'goals1': [{'name': 'Inui', 'minute': 34, 'score1': 1, 'score2': 1}, {'name': 'Honda', 'minute': 78, 'score1': 2, 'score2': 2}], 'goals2': [{'name': 'Mané', 'minute': 11, 'score1': 0, 'score2': 1}, {'name': 'M. Wagué', 'minute': 71, 'score1': 1, 'score2': 2}], 'group': 'Group H', 'stadium': {'key': 'ekaterinburg', 'name': 'Ekaterinburg Arena'}, 'city': 'Ekaterinburg', 'timezone': 'UTC+5'}]}, {'name': 'Matchday 12', 'matches': [{'num': 33, 'date': '2018-06-25', 'time': '18:00', 'team1': {'name': 'Uruguay', 'code': 'URU'}, 'team2': {'name': 'Russia', 'code': 'RUS'}, 'score1': 3, 'score2': 0, 'score1i': 2, 'score2i': 0, 'goals1': [{'name': 'L. Suárez', 'minute': 10, 'score1': 1, 'score2': 0}, {'name': 'Cheryshev', 'minute': 23, 'score1': 2, 'score2': 0, 'owngoal': True}, {'name': 'E. Cavani', 'minute': 90, 'score1': 3, 'score2': 0}], 'goals2': [], 'group': 'Group A', 'stadium': {'key': 'samara', 'name': 'Samara Arena'}, 'city': 'Samara', 'timezone': 'UTC+4'}, {'num': 34, 'date': '2018-06-25', 'time': '17:00', 'team1': {'name': 'Saudi Arabia', 'code': 'KSA'}, 'team2': {'name': 'Egypt', 'code': 'EGY'}, 'score1': 2, 'score2': 1, 'score1i': 1, 'score2i': 1, 'goals1': [{'name': 'Salman Al-Faraj', 'minute': 45, 'offset': 6, 'score1': 1, 'score2': 1, 'penalty': True}, {'name': 'Salem Al-Dawsari', 'minute': 90, 'offset': 5, 'score1': 2, 'score2': 1}], 'goals2': [{'name': 'M. Salah', 'minute': 22, 'score1': 0, 'score2': 1}], 'group': 'Group A', 'stadium': {'key': 'volgograd', 'name': 'Volgograd Arena'}, 'city': 'Volgograd', 'timezone': 'UTC+3'}, {'num': 35, 'date': '2018-06-25', 'time': '21:00', 'team1': {'name': 'Iran', 'code': 'IRN'}, 'team2': {'name': 'Portugal', 'code': 'POR'}, 'score1': 1, 'score2': 1, 'score1i': 0, 'score2i': 1, 'goals1': [{'name': 'Karim Ansarifard', 'minute': 90, 'offset': 3, 'score1': 1, 'score2': 1, 'penalty': True}], 'goals2': [{'name': 'Quaresma', 'minute': 45, 'score1': 0, 'score2': 1}], 'group': 'Group B', 'stadium': {'key': 'mordovia', 'name': 'Mordovia Arena'}, 'city': 'Saransk', 'timezone': 'UTC+3'}, {'num': 36, 'date': '2018-06-25', 'time': '20:00', 'team1': {'name': 'Spain', 'code': 'ESP'}, 'team2': {'name': 'Morocco', 'code': 'MAR'}, 'score1': 2, 'score2': 2, 'score1i': 1, 'score2i': 1, 'goals1': [{'name': 'Isco', 'minute': 19, 'score1': 1, 'score2': 1}, {'name': 'Iago Aspas', 'minute': 90, 'offset': 1, 'score1': 2, 'score2': 2}], 'goals2': [{'name': 'Boutaib', 'minute': 14, 'score1': 0, 'score2': 1}, {'name': 'En-Nesyri', 'minute': 81, 'score1': 1, 'score2': 2}], 'group': 'Group B', 'stadium': {'key': 'kaliningrad', 'name': 'Kaliningrad Stadium'}, 'city': 'Kaliningrad', 'timezone': 'UTC+2'}]}, {'name': 'Matchday 13', 'matches': [{'num': 37, 'date': '2018-06-26', 'time': '17:00', 'team1': {'name': 'Denmark', 'code': 'DEN'}, 'team2': {'name': 'France', 'code': 'FRA'}, 'score1': 0, 'score2': 0, 'score1i': 0, 'score2i': 0, 'group': 'Group C', 'stadium': {'key': 'luzhniki', 'name': 'Luzhniki Stadium'}, 'city': 'Moscow', 'timezone': 'UTC+3'}, {'num': 38, 'date': '2018-06-26', 'time': '17:00', 'team1': {'name': 'Australia', 'code': 'AUS'}, 'team2': {'name': 'Peru', 'code': 'PER'}, 'score1': 0, 'score2': 2, 'score1i': 0, 'score2i': 1, 'goals1': [], 'goals2': [{'name': 'Carrillo', 'minute': 18, 'score1': 0, 'score2': 1}, {'name': 'Guerrero', 'minute': 50, 'score1': 0, 'score2': 2}], 'group': 'Group C', 'stadium': {'key': 'fisht', 'name': 'Fisht Stadium'}, 'city': 'Sochi', 'timezone': 'UTC+3'}, {'num': 39, 'date': '2018-06-26', 'time': '21:00', 'team1': {'name': 'Nigeria', 'code': 'NGA'}, 'team2': {'name': 'Argentina', 'code': 'ARG'}, 'score1': 1, 'score2': 2, 'score1i': 0, 'score2i': 1, 'goals1': [{'name': 'Moses', 'minute': 51, 'score1': 1, 'score2': 1, 'penalty': True}], 'goals2': [{'name': 'Messi', 'minute': 14, 'score1': 0, 'score2': 1}, {'name': 'Marcos Rojo', 'minute': 86, 'score1': 1, 'score2': 2}], 'group': 'Group D', 'stadium': {'key': 'saintpetersburg', 'name': 'Saint Petersburg Stadium'}, 'city': 'Saint Petersburg', 'timezone': 'UTC+3'}, {'num': 40, 'date': '2018-06-26', 'time': '21:00', 'team1': {'name': 'Iceland', 'code': 'ISL'}, 'team2': {'name': 'Croatia', 'code': 'CRO'}, 'score1': 1, 'score2': 2, 'score1i': 0, 'score2i': 0, 'goals1': [{'name': 'G. Sigurðsson', 'minute': 76, 'score1': 1, 'score2': 1, 'penalty': True}], 'goals2': [{'name': 'Badelj', 'minute': 53, 'score1': 0, 'score2': 1}, {'name': 'Perišić', 'minute': 90, 'score1': 1, 'score2': 2}], 'group': 'Group D', 'stadium': {'key': 'rostov', 'name': 'Rostov Arena'}, 'city': 'Rostov-on-Don', 'timezone': 'UTC+3'}]}, {'name': 'Matchday 14', 'matches': [{'num': 41, 'date': '2018-06-27', 'time': '21:00', 'team1': {'name': 'Serbia', 'code': 'SRB'}, 'team2': {'name': 'Brazil', 'code': 'BRA'}, 'score1': 0, 'score2': 2, 'score1i': 0, 'score2i': 1, 'goals1': [], 'goals2': [{'name': 'Paulinho', 'minute': 36, 'score1': 0, 'score2': 1}, {'name': 'Thiago Silva', 'minute': 68, 'score1': 0, 'score2': 2}], 'group': 'Group E', 'stadium': {'key': 'spartak', 'name': 'Spartak Stadium'}, 'city': 'Moscow', 'timezone': 'UTC+3'}, {'num': 42, 'date': '2018-06-27', 'time': '21:00', 'team1': {'name': 'Switzerland', 'code': 'SUI'}, 'team2': {'name': 'Costa Rica', 'code': 'CRC'}, 'score1': 2, 'score2': 2, 'score1i': 1, 'score2i': 0, 'goals1': [{'name': 'Džemaili', 'minute': 31, 'score1': 1, 'score2': 0}, {'name': 'Drmić', 'minute': 88, 'score1': 2, 'score2': 1}], 'goals2': [{'name': 'Waston', 'minute': 56, 'score1': 1, 'score2': 1}, {'name': 'Sommer', 'minute': 90, 'offset': 3, 'score1': 2, 'score2': 2, 'owngoal': True}], 'group': 'Group E', 'stadium': {'key': 'nizhnynovgorod', 'name': 'Nizhny Novgorod Stadium'}, 'city': 'Nizhny Novgorod', 'timezone': 'UTC+3'}, {'num': 43, 'date': '2018-06-27', 'time': '17:00', 'team1': {'name': 'South Korea', 'code': 'KOR'}, 'team2': {'name': 'Germany', 'code': 'GER'}, 'score1': 2, 'score2': 0, 'score1i': 0, 'score2i': 0, 'goals1': [{'name': 'Kim Young-gwon', 'minute': 90, 'offset': 2, 'score1': 1, 'score2': 0}, {'name': 'Son Heung-min', 'minute': 90, 'offset': 6, 'score1': 2, 'score2': 0}], 'goals2': [], 'group': 'Group F', 'stadium': {'key': 'kazan', 'name': 'Kazan Arena'}, 'city': 'Kazan', 'timezone': 'UTC+3'}, {'num': 44, 'date': '2018-06-27', 'time': '19:00', 'team1': {'name': 'Mexico', 'code': 'MEX'}, 'team2': {'name': 'Sweden', 'code': 'SWE'}, 'score1': 0, 'score2': 3, 'score1i': 0, 'score2i': 0, 'goals1': [], 'goals2': [{'name': 'Augustinsson', 'minute': 50, 'score1': 0, 'score2': 1}, {'name': 'Granqvist', 'minute': 62, 'score1': 0, 'score2': 2, 'penalty': True}, {'name': 'Álvarez', 'minute': 74, 'score1': 0, 'score2': 3, 'owngoal': True}], 'group': 'Group F', 'stadium': {'key': 'ekaterinburg', 'name': 'Ekaterinburg Arena'}, 'city': 'Ekaterinburg', 'timezone': 'UTC+5'}]}, {'name': 'Matchday 15', 'matches': [{'num': 45, 'date': '2018-06-28', 'time': '20:00', 'team1': {'name': 'England', 'code': 'ENG'}, 'team2': {'name': 'Belgium', 'code': 'BEL'}, 'score1': 0, 'score2': 1, 'score1i': 0, 'score2i': 0, 'goals1': [], 'goals2': [{'name': 'Adnan Januzaj', 'minute': 51, 'score1': 0, 'score2': 1}], 'group': 'Group G', 'stadium': {'key': 'kaliningrad', 'name': 'Kaliningrad Stadium'}, 'city': 'Kaliningrad', 'timezone': 'UTC+2'}, {'num': 46, 'date': '2018-06-28', 'time': '21:00', 'team1': {'name': 'Panama', 'code': 'PAN'}, 'team2': {'name': 'Tunisia', 'code': 'TUN'}, 'score1': 1, 'score2': 2, 'score1i': 1, 'score2i': 0, 'goals1': [{'name': 'Yassine Meriah', 'minute': 33, 'score1': 1, 'score2': 0, 'owngoal': True}], 'goals2': [{'name': 'Fakhereedine Ben Youssef', 'minute': 51, 'score1': 1, 'score2': 1}, {'name': 'Wahbi Khazri', 'minute': 66, 'score1': 1, 'score2': 2}], 'group': 'Group G', 'stadium': {'key': 'mordovia', 'name': 'Mordovia Arena'}, 'city': 'Saransk', 'timezone': 'UTC+3'}, {'num': 47, 'date': '2018-06-28', 'time': '17:00', 'team1': {'name': 'Japan', 'code': 'JPN'}, 'team2': {'name': 'Poland', 'code': 'POL'}, 'score1': 0, 'score2': 1, 'score1i': 0, 'score2i': 1, 'goals1': [], 'goals2': [{'name': 'Bednarek', 'minute': 59, 'score1': 0, 'score2': 1}], 'group': 'Group H', 'stadium': {'key': 'volgograd', 'name': 'Volgograd Arena'}, 'city': 'Volgograd', 'timezone': 'UTC+3'}, {'num': 48, 'date': '2018-06-28', 'time': '18:00', 'team1': {'name': 'Senegal', 'code': 'SEN'}, 'team2': {'name': 'Colombia', 'code': 'COL'}, 'score1': 0, 'score2': 1, 'score1i': 0, 'score2i': 1, 'goals1': [], 'goals2': [{'name': 'Y. Mina', 'minute': 74, 'score1': 0, 'score2': 1}], 'group': 'Group H', 'stadium': {'key': 'samara', 'name': 'Samara Arena'}, 'city': 'Samara', 'timezone': 'UTC+4'}]}, {'name': 'Round of 16', 'matches': [{'num': 49, 'date': '2018-06-30', 'time': '21:00', 'team1': {'name': 'Uruguay', 'code': 'URU'}, 'team2': {'name': 'Portugal', 'code': 'POR'}, 'score1': 2, 'score2': 1, 'score1i': 1, 'score2i': 0, 'score1et': None, 'score2et': None, 'score1p': None, 'score2p': None, 'knockout': True, 'goals1': [{'name': 'Edinson Cavani', 'minute': 7, 'score1': 1, 'score2': 0}, {'name': 'Edinson Cavani', 'minute': 62, 'score1': 2, 'score2': 1}], 'goals2': [{'name': 'Pepe', 'minute': 55, 'score1': 1, 'score2': 1}], 'stadium': {'key': 'fisht', 'name': 'Fisht Stadium'}, 'city': 'Sochi', 'timezone': 'UTC+3'}, {'num': 50, 'date': '2018-06-30', 'time': '17:00', 'team1': {'name': 'France', 'code': 'FRA'}, 'team2': {'name': 'Argentina', 'code': 'ARG'}, 'score1': 4, 'score2': 3, 'score1i': 1, 'score2i': 1, 'score1et': None, 'score2et': None, 'score1p': None, 'score2p': None, 'knockout': True, 'goals1': [{'name': 'Antoine Griezmann', 'minute': 13, 'score1': 1, 'score2': 0, 'penalty': True}, {'name': 'Benjamin Pavard', 'minute': 57, 'score1': 2, 'score2': 2}, {'name': 'Kylian Mbappé', 'minute': 64, 'score1': 3, 'score2': 2}, {'name': 'Kylian Mbappé', 'minute': 68, 'score1': 4, 'score2': 2}], 'goals2': [{'name': 'Ángel Di María', 'minute': 41, 'score1': 1, 'score2': 1}, {'name': 'Gabriel Mercado', 'minute': 48, 'score1': 1, 'score2': 2}, {'name': 'Sergio Agüero', 'minute': 90, 'offset': 3, 'score1': 4, 'score2': 3}], 'stadium': {'key': 'kazan', 'name': 'Kazan Arena'}, 'city': 'Kazan', 'timezone': 'UTC+3'}, {'num': 51, 'date': '2018-07-01', 'time': '17:00', 'team1': {'name': 'Spain', 'code': 'ESP'}, 'team2': {'name': 'Russia', 'code': 'RUS'}, 'score1': 1, 'score2': 1, 'score1i': 1, 'score2i': 1, 'score1et': 1, 'score2et': 1, 'score1p': 3, 'score2p': 4, 'knockout': True, 'goals1': [{'name': 'Sergei Ignashevich', 'minute': 12, 'score1': 1, 'score2': 0, 'owngoal': True}], 'goals2': [{'name': 'Artem Dzyuba', 'minute': 41, 'score1': 1, 'score2': 1, 'penalty': True}], 'stadium': {'key': 'luzhniki', 'name': 'Luzhniki Stadium'}, 'city': 'Moscow', 'timezone': 'UTC+3'}, {'num': 52, 'date': '2018-07-01', 'time': '21:00', 'team1': {'name': 'Croatia', 'code': 'CRO'}, 'team2': {'name': 'Denmark', 'code': 'DEN'}, 'score1': 1, 'score2': 1, 'score1i': 1, 'score2i': 1, 'score1et': 1, 'score2et': 1, 'score1p': 3, 'score2p': 2, 'knockout': True, 'goals1': [{'name': 'Mario Mandžukić', 'minute': 4, 'score1': 1, 'score2': 1}], 'goals2': [{'name': 'Mathias Jørgensen', 'minute': 1, 'score1': 0, 'score2': 1}], 'stadium': {'key': 'nizhnynovgorod', 'name': 'Nizhny Novgorod Stadium'}, 'city': 'Nizhny Novgorod', 'timezone': 'UTC+3'}, {'num': 53, 'date': '2018-07-02', 'time': '18:00', 'team1': {'name': 'Brazil', 'code': 'BRA'}, 'team2': {'name': 'Mexico', 'code': 'MEX'}, 'score1': 2, 'score2': 0, 'score1i': 0, 'score2i': 0, 'score1et': None, 'score2et': None, 'score1p': None, 'score2p': None, 'knockout': True, 'goals1': [{'name': 'Neymar', 'minute': 51, 'score1': 1, 'score2': 0}, {'name': 'Roberto Firmino', 'minute': 88, 'score1': 2, 'score2': 0}], 'goals2': [], 'stadium': {'key': 'samara', 'name': 'Samara Arena'}, 'city': 'Samara', 'timezone': 'UTC+4'}, {'num': 54, 'date': '2018-07-02', 'time': '21:00', 'team1': {'name': 'Belgium', 'code': 'BEL'}, 'team2': {'name': 'Japan', 'code': 'JPN'}, 'score1': 3, 'score2': 2, 'score1i': 0, 'score2i': 0, 'score1et': None, 'score2et': None, 'score1p': None, 'score2p': None, 'knockout': True, 'goals1': [{'name': 'Jan Vertonghen', 'minute': 69, 'score1': 1, 'score2': 2}, {'name': 'Marouane Fellaini', 'minute': 74, 'score1': 2, 'score2': 2}, {'name': 'Nacer Chadli', 'minute': 90, 'offset': 4, 'score1': 3, 'score2': 2}], 'goals2': [{'name': 'Genki Haraguchi', 'minute': 48, 'score1': 0, 'score2': 1}, {'name': 'Takashi Inui', 'minute': 52, 'score1': 0, 'score2': 2}], 'stadium': {'key': 'rostov', 'name': 'Rostov Arena'}, 'city': 'Rostov-on-Don', 'timezone': 'UTC+3'}, {'num': 55, 'date': '2018-07-03', 'time': '17:00', 'team1': {'name': 'Sweden', 'code': 'SWE'}, 'team2': {'name': 'Switzerland', 'code': 'SUI'}, 'score1': 1, 'score2': 0, 'score1i': 0, 'score2i': 0, 'score1et': None, 'score2et': None, 'score1p': None, 'score2p': None, 'knockout': True, 'goals1': [{'name': 'Emil Forsberg', 'minute': 66, 'score1': 1, 'score2': 0}], 'goals2': [], 'stadium': {'key': 'saintpetersburg', 'name': 'Saint Petersburg Stadium'}, 'city': 'Saint Petersburg', 'timezone': 'UTC+3'}, {'num': 56, 'date': '2018-07-03', 'time': '21:00', 'team1': {'name': 'Colombia', 'code': 'COL'}, 'team2': {'name': 'England', 'code': 'ENG'}, 'score1': 1, 'score2': 1, 'score1i': 0, 'score2i': 0, 'score1et': 1, 'score2et': 1, 'score1p': 3, 'score2p': 4, 'knockout': True, 'goals1': [{'name': 'Yerry Mina', 'minute': 90, 'offset': 3, 'score1': 1, 'score2': 1}], 'goals2': [{'name': 'Harry Kane', 'minute': 57, 'score1': 0, 'score2': 1, 'penalty': True}], 'stadium': {'key': 'spartak', 'name': 'Spartak Stadium'}, 'city': 'Moscow', 'timezone': 'UTC+3'}]}, {'name': 'Quarter-finals', 'matches': [{'num': 57, 'date': '2018-07-06', 'time': '17:00', 'team1': {'name': 'Uruguay', 'code': 'URU'}, 'team2': {'name': 'France', 'code': 'FRA'}, 'score1': 0, 'score2': 2, 'score1i': 0, 'score2i': 1, 'score1et': None, 'score2et': None, 'score1p': None, 'score2p': None, 'knockout': True, 'goals1': [], 'goals2': [{'name': 'Raphaël Varane', 'minute': 40, 'score1': 0, 'score2': 1}, {'name': 'Antoine Griezmann', 'minute': 61, 'score1': 0, 'score2': 2}], 'stadium': {'key': 'nizhnynovgorod', 'name': 'Nizhny Novgorod Stadium'}, 'city': 'Nizhny Novgorod', 'timezone': 'UTC+3'}, {'num': 58, 'date': '2018-07-06', 'time': '21:00', 'team1': {'name': 'Brazil', 'code': 'BRA'}, 'team2': {'name': 'Belgium', 'code': 'BEL'}, 'score1': 1, 'score2': 2, 'score1i': 0, 'score2i': 2, 'score1et': None, 'score2et': None, 'score1p': None, 'score2p': None, 'knockout': True, 'goals1': [{'name': 'Renato Augusto', 'minute': 76, 'score1': 1, 'score2': 2}], 'goals2': [{'name': 'Fernandinho', 'minute': 13, 'score1': 0, 'score2': 1, 'owngoal': True}, {'name': 'Kevin De Bruyne', 'minute': 31, 'score1': 0, 'score2': 2}], 'stadium': {'key': 'kazan', 'name': 'Kazan Arena'}, 'city': 'Kazan', 'timezone': 'UTC+3'}, {'num': 59, 'date': '2018-07-07', 'time': '21:00', 'team1': {'name': 'Russia', 'code': 'RUS'}, 'team2': {'name': 'Croatia', 'code': 'CRO'}, 'score1': 1, 'score2': 1, 'score1i': 1, 'score2i': 1, 'score1et': 2, 'score2et': 2, 'score1p': 3, 'score2p': 4, 'knockout': True, 'goals1': [{'name': 'Denis Cheryshev', 'minute': 31, 'score1': 1, 'score2': 0}, {'name': 'Mário Figueira Fernandes', 'minute': 115, 'score1': 2, 'score2': 2}], 'goals2': [{'name': 'Andrej Kramarić', 'minute': 39, 'score1': 1, 'score2': 1}, {'name': 'Domagoj Vida', 'minute': 100, 'score1': 1, 'score2': 2}], 'stadium': {'key': 'fisht', 'name': 'Fisht Stadium'}, 'city': 'Sochi', 'timezone': 'UTC+3'}, {'num': 60, 'date': '2018-07-07', 'time': '18:00', 'team1': {'name': 'Sweden', 'code': 'SWE'}, 'team2': {'name': 'England', 'code': 'ENG'}, 'score1': 0, 'score2': 2, 'score1i': 0, 'score2i': 1, 'score1et': None, 'score2et': None, 'score1p': None, 'score2p': None, 'knockout': True, 'goals1': [], 'goals2': [{'name': 'Harry Maguire', 'minute': 30, 'score1': 0, 'score2': 1}, {'name': 'Dele Alli', 'minute': 58, 'score1': 0, 'score2': 2}], 'stadium': {'key': 'samara', 'name': 'Samara Arena'}, 'city': 'Samara', 'timezone': 'UTC+4'}]}, {'name': 'Semi-finals', 'matches': [{'num': 61, 'date': '2018-07-10', 'time': '21:00', 'team1': {'name': 'France', 'code': 'FRA'}, 'team2': {'name': 'Belgium', 'code': 'BEL'}, 'score1': 1, 'score2': 0, 'score1i': 0, 'score2i': 0, 'score1et': None, 'score2et': None, 'score1p': None, 'score2p': None, 'knockout': True, 'goals1': [{'name': 'Samuel Umtiti', 'minute': 51, 'score1': 1, 'score2': 0}], 'goals2': [], 'stadium': {'key': 'saintpetersburg', 'name': 'Saint Petersburg Stadium'}, 'city': 'Saint Petersburg', 'timezone': 'UTC+3'}, {'num': 62, 'date': '2018-07-11', 'time': '21:00', 'team1': {'name': 'Croatia', 'code': 'CRO'}, 'team2': {'name': 'England', 'code': 'ENG'}, 'score1': 1, 'score2': 1, 'score1i': 0, 'score2i': 1, 'score1et': 2, 'score2et': 1, 'score1p': None, 'score2p': None, 'knockout': True, 'goals1': [{'name': 'Ivan Perišić', 'minute': 68, 'score1': 1, 'score2': 1}, {'name': 'Mario Mandžukić', 'minute': 109, 'score1': 2, 'score2': 1}], 'goals2': [{'name': 'Kieran Trippier', 'minute': 5, 'score1': 0, 'score2': 1}], 'stadium': {'key': 'luzhniki', 'name': 'Luzhniki Stadium'}, 'city': 'Moscow', 'timezone': 'UTC+3'}]}, {'name': 'Match for third place', 'matches': [{'num': 63, 'date': '2018-07-14', 'time': '17:00', 'team1': {'name': 'Belgium', 'code': 'BEL'}, 'team2': {'name': 'England', 'code': 'ENG'}, 'score1': 2, 'score2': 0, 'score1i': 1, 'score2i': 0, 'score1et': None, 'score2et': None, 'score1p': None, 'score2p': None, 'knockout': True, 'goals1': [{'name': 'Thomas Meunier', 'minute': 4, 'score1': 1, 'score2': 0}, {'name': 'Eden Hazard', 'minute': 82, 'score1': 2, 'score2': 0}], 'goals2': [], 'stadium': {'key': 'saintpetersburg', 'name': 'Saint Petersburg Stadium'}, 'city': 'Saint Petersburg', 'timezone': 'UTC+3'}]}, {'name': 'Final', 'matches': [{'num': 64, 'date': '2018-07-15', 'time': '18:00', 'team1': {'name': 'France', 'code': 'FRA'}, 'team2': {'name': 'Croatia', 'code': 'CRO'}, 'score1': 4, 'score2': 2, 'score1i': 2, 'score2i': 1, 'score1et': None, 'score2et': None, 'score1p': None, 'score2p': None, 'knockout': True, 'goals1': [{'name': 'Mario Mandžukić', 'minute': 18, 'score1': 1, 'score2': 0, 'owngoal': True}, {'name': 'Griezmann', 'minute': 38, 'score1': 2, 'score2': 1, 'penalty': True}, {'name': 'Pogba', 'minute': 59, 'score1': 3, 'score2': 1}, {'name': 'Mbappé', 'minute': 65, 'score1': 4, 'score2': 1}], 'goals2': [{'name': 'Perišić', 'minute': 28, 'score1': 1, 'score2': 1}, {'name': 'Mario Mandžukić', 'minute': 69, 'score1': 4, 'score2': 2}], 'stadium': {'key': 'luzhniki', 'name': 'Luzhniki Stadium'}, 'city': 'Moscow', 'timezone': 'UTC+3'}]}]}\n"
     ]
    }
   ],
   "source": [
    "\n",
    "    assert type(world_cup_data) == dict\n",
    "    assert list(world_cup_data.keys()) == [\"name\", \"rounds\"]\n",
    "    print(world_cup_data)\n",
    "\n",
    "\n"
   ]
  },
  {
   "cell_type": "code",
   "execution_count": 25,
   "metadata": {},
   "outputs": [
    {
     "name": "stdout",
     "output_type": "stream",
     "text": [
      "<class 'dict'>\n"
     ]
    }
   ],
   "source": [
    "print(type(world_cup_data))\n"
   ]
  },
  {
   "cell_type": "code",
   "execution_count": 26,
   "metadata": {},
   "outputs": [
    {
     "name": "stdout",
     "output_type": "stream",
     "text": [
      "['name', 'rounds']\n"
     ]
    }
   ],
   "source": [
    "print(list(world_cup_data.keys()))\n"
   ]
  },
  {
   "cell_type": "code",
   "execution_count": 37,
   "metadata": {},
   "outputs": [],
   "source": [
    "# Replace None with appropriate code\n",
    "population_data = population_file\n",
    "\n",
    "# Close the file now that we're done reading from it\n",
    "population_file.close()"
   ]
  },
  {
   "cell_type": "code",
   "execution_count": 38,
   "metadata": {},
   "outputs": [
    {
     "ename": "AssertionError",
     "evalue": "",
     "output_type": "error",
     "traceback": [
      "\u001b[1;31m---------------------------------------------------------------------------\u001b[0m",
      "\u001b[1;31mAssertionError\u001b[0m                            Traceback (most recent call last)",
      "\u001b[1;32m<ipython-input-38-a507626b62a1>\u001b[0m in \u001b[0;36m<module>\u001b[1;34m\u001b[0m\n\u001b[0;32m      2\u001b[0m \u001b[1;33m\u001b[0m\u001b[0m\n\u001b[0;32m      3\u001b[0m \u001b[1;31m# Check that the overall data structure is a list\u001b[0m\u001b[1;33m\u001b[0m\u001b[1;33m\u001b[0m\u001b[1;33m\u001b[0m\u001b[0m\n\u001b[1;32m----> 4\u001b[1;33m \u001b[1;32massert\u001b[0m \u001b[0mtype\u001b[0m\u001b[1;33m(\u001b[0m\u001b[0mpopulation_data\u001b[0m\u001b[1;33m)\u001b[0m \u001b[1;33m==\u001b[0m \u001b[0mlist\u001b[0m\u001b[1;33m\u001b[0m\u001b[1;33m\u001b[0m\u001b[0m\n\u001b[0m\u001b[0;32m      5\u001b[0m \u001b[1;33m\u001b[0m\u001b[0m\n\u001b[0;32m      6\u001b[0m \u001b[1;31m# Check that the 0th element is a dictionary\u001b[0m\u001b[1;33m\u001b[0m\u001b[1;33m\u001b[0m\u001b[1;33m\u001b[0m\u001b[0m\n",
      "\u001b[1;31mAssertionError\u001b[0m: "
     ]
    }
   ],
   "source": [
    "# Run this cell without changes\n",
    "\n",
    "# Check that the overall data structure is a list\n",
    "assert type(population_data) == list\n",
    "\n",
    "# Check that the 0th element is a dictionary\n",
    "# (csv.DictReader interface differs slightly by Python version;\n",
    "# either a dict or an OrderedDict is fine here)\n",
    "from collections import OrderedDict\n",
    "\n",
    "assert type(population_data[0]) == dict or type(population_data[0]) == OrderedDict"
   ]
  },
  {
   "cell_type": "code",
   "execution_count": 39,
   "metadata": {},
   "outputs": [
    {
     "name": "stdout",
     "output_type": "stream",
     "text": [
      "<class '_io.TextIOWrapper'>\n"
     ]
    }
   ],
   "source": [
    "print(type(population_data))"
   ]
  },
  {
   "cell_type": "code",
   "execution_count": 42,
   "metadata": {},
   "outputs": [],
   "source": [
    "with open(\"data/country_populations.csv\", newline='') as population_file:\n",
    "    reader = csv.DictReader(population_file)\n",
    "    population_data = list(reader)"
   ]
  },
  {
   "cell_type": "code",
   "execution_count": 43,
   "metadata": {},
   "outputs": [
    {
     "name": "stdout",
     "output_type": "stream",
     "text": [
      "<class 'list'>\n"
     ]
    }
   ],
   "source": [
    "print(type(population_data))"
   ]
  },
  {
   "cell_type": "code",
   "execution_count": 44,
   "metadata": {},
   "outputs": [],
   "source": [
    "# Run this cell without changes\n",
    "\n",
    "# Check that the overall data structure is a list\n",
    "assert type(population_data) == list\n",
    "\n",
    "# Check that the 0th element is a dictionary\n",
    "# (csv.DictReader interface differs slightly by Python version;\n",
    "# either a dict or an OrderedDict is fine here)\n",
    "from collections import OrderedDict\n",
    "\n",
    "assert type(population_data[0]) == dict or type(population_data[0]) == OrderedDict"
   ]
  },
  {
   "cell_type": "code",
   "execution_count": 45,
   "metadata": {},
   "outputs": [
    {
     "data": {
      "text/plain": [
       "{'name': 'World Cup 2018',\n",
       " 'rounds': [{'name': 'Matchday 1',\n",
       "   'matches': [{'num': 1,\n",
       "     'date': '2018-06-14',\n",
       "     'time': '18:00',\n",
       "     'team1': {'name': 'Russia', 'code': 'RUS'},\n",
       "     'team2': {'name': 'Saudi Arabia', 'code': 'KSA'},\n",
       "     'score1': 5,\n",
       "     'score2': 0,\n",
       "     'score1i': 2,\n",
       "     'score2i': 0,\n",
       "     'goals1': [{'name': 'Gazinsky', 'minute': 12, 'score1': 1, 'score2': 0},\n",
       "      {'name': 'Cheryshev', 'minute': 43, 'score1': 2, 'score2': 0},\n",
       "      {'name': 'Dzyuba', 'minute': 71, 'score1': 3, 'score2': 0},\n",
       "      {'name': 'Cheryshev',\n",
       "       'minute': 90,\n",
       "       'offset': 1,\n",
       "       'score1': 4,\n",
       "       'score2': 0},\n",
       "      {'name': 'Golovin',\n",
       "       'minute': 90,\n",
       "       'offset': 4,\n",
       "       'score1': 5,\n",
       "       'score2': 0}],\n",
       "     'goals2': [],\n",
       "     'group': 'Group A',\n",
       "     'stadium': {'key': 'luzhniki', 'name': 'Luzhniki Stadium'},\n",
       "     'city': 'Moscow',\n",
       "     'timezone': 'UTC+3'}]},\n",
       "  {'name': 'Matchday 2',\n",
       "   'matches': [{'num': 2,\n",
       "     'date': '2018-06-15',\n",
       "     'time': '17:00',\n",
       "     'team1': {'name': 'Egypt', 'code': 'EGY'},\n",
       "     'team2': {'name': 'Uruguay', 'code': 'URU'},\n",
       "     'score1': 0,\n",
       "     'score2': 1,\n",
       "     'score1i': 0,\n",
       "     'score2i': 0,\n",
       "     'goals1': [],\n",
       "     'goals2': [{'name': 'Giménez', 'minute': 89, 'score1': 0, 'score2': 1}],\n",
       "     'group': 'Group A',\n",
       "     'stadium': {'key': 'ekaterinburg', 'name': 'Ekaterinburg Arena'},\n",
       "     'city': 'Ekaterinburg',\n",
       "     'timezone': 'UTC+5'},\n",
       "    Ellipsis]}]}"
      ]
     },
     "execution_count": 45,
     "metadata": {},
     "output_type": "execute_result"
    }
   ],
   "source": [
    "{\n",
    "  \"name\": \"World Cup 2018\",\n",
    "  \"rounds\": [\n",
    "    {\n",
    "      \"name\": \"Matchday 1\",\n",
    "      \"matches\": [\n",
    "        {\n",
    "          \"num\": 1,\n",
    "          \"date\": \"2018-06-14\",\n",
    "          \"time\": \"18:00\",\n",
    "          \"team1\": { \"name\": \"Russia\",       \"code\": \"RUS\" },\n",
    "          \"team2\": { \"name\": \"Saudi Arabia\", \"code\": \"KSA\" },\n",
    "          \"score1\":  5,\n",
    "          \"score2\":  0,\n",
    "          \"score1i\": 2,\n",
    "          \"score2i\": 0,\n",
    "          \"goals1\": [\n",
    "            { \"name\": \"Gazinsky\",   \"minute\": 12,              \"score1\": 1, \"score2\": 0 },\n",
    "            { \"name\": \"Cheryshev\",  \"minute\": 43,              \"score1\": 2, \"score2\": 0 },\n",
    "            { \"name\": \"Dzyuba\",     \"minute\": 71,              \"score1\": 3, \"score2\": 0 },\n",
    "            { \"name\": \"Cheryshev\",  \"minute\": 90, \"offset\": 1, \"score1\": 4, \"score2\": 0 },\n",
    "            { \"name\": \"Golovin\",    \"minute\": 90, \"offset\": 4, \"score1\": 5, \"score2\": 0 }\n",
    "          ],\n",
    "          \"goals2\": [],\n",
    "          \"group\": \"Group A\",\n",
    "          \"stadium\": { \"key\": \"luzhniki\", \"name\": \"Luzhniki Stadium\" },\n",
    "          \"city\": \"Moscow\",\n",
    "          \"timezone\": \"UTC+3\"\n",
    "        }\n",
    "      ]\n",
    "    },\n",
    "    {\n",
    "      \"name\": \"Matchday 2\",\n",
    "      \"matches\": [\n",
    "        {\n",
    "          \"num\": 2,\n",
    "          \"date\": \"2018-06-15\",\n",
    "          \"time\": \"17:00\",\n",
    "          \"team1\": { \"name\": \"Egypt\",   \"code\": \"EGY\" },\n",
    "          \"team2\": { \"name\": \"Uruguay\", \"code\": \"URU\" },\n",
    "          \"score1\":  0,\n",
    "          \"score2\":  1,\n",
    "          \"score1i\": 0,\n",
    "          \"score2i\": 0,\n",
    "          \"goals1\": [],\n",
    "          \"goals2\": [\n",
    "            { \"name\": \"Giménez\",  \"minute\": 89,  \"score1\": 0, \"score2\": 1 }\n",
    "          ],\n",
    "          \"group\": \"Group A\",\n",
    "          \"stadium\": { \"key\": \"ekaterinburg\", \"name\": \"Ekaterinburg Arena\" },          \n",
    "          \"city\": \"Ekaterinburg\",\n",
    "          \"timezone\": \"UTC+5\"\n",
    "        },\n",
    "        ...\n",
    "      ],\n",
    "    },\n",
    "  ],  \n",
    "}"
   ]
  },
  {
   "cell_type": "code",
   "execution_count": 46,
   "metadata": {},
   "outputs": [
    {
     "data": {
      "text/plain": [
       "dict_keys(['name', 'rounds'])"
      ]
     },
     "execution_count": 46,
     "metadata": {},
     "output_type": "execute_result"
    }
   ],
   "source": [
    "# Run this cell without changes\n",
    "world_cup_data.keys()"
   ]
  },
  {
   "cell_type": "code",
   "execution_count": 47,
   "metadata": {},
   "outputs": [
    {
     "data": {
      "text/plain": [
       "'World Cup 2018'"
      ]
     },
     "execution_count": 47,
     "metadata": {},
     "output_type": "execute_result"
    }
   ],
   "source": [
    "# Run this cell without changes\n",
    "world_cup_data[\"name\"]"
   ]
  },
  {
   "cell_type": "code",
   "execution_count": 48,
   "metadata": {},
   "outputs": [
    {
     "name": "stdout",
     "output_type": "stream",
     "text": [
      "type(rounds): <class 'list'>\n",
      "len(rounds): 20\n",
      "type(rounds[3]) <class 'dict'>\n",
      "rounds[3]:\n"
     ]
    },
    {
     "data": {
      "text/plain": [
       "{'name': 'Matchday 4',\n",
       " 'matches': [{'num': 9,\n",
       "   'date': '2018-06-17',\n",
       "   'time': '21:00',\n",
       "   'team1': {'name': 'Brazil', 'code': 'BRA'},\n",
       "   'team2': {'name': 'Switzerland', 'code': 'SUI'},\n",
       "   'score1': 1,\n",
       "   'score2': 1,\n",
       "   'score1i': 1,\n",
       "   'score2i': 0,\n",
       "   'goals1': [{'name': 'Coutinho', 'minute': 20, 'score1': 1, 'score2': 0}],\n",
       "   'goals2': [{'name': 'Zuber', 'minute': 50, 'score1': 1, 'score2': 1}],\n",
       "   'group': 'Group E',\n",
       "   'stadium': {'key': 'rostov', 'name': 'Rostov Arena'},\n",
       "   'city': 'Rostov-on-Don',\n",
       "   'timezone': 'UTC+3'},\n",
       "  {'num': 10,\n",
       "   'date': '2018-06-17',\n",
       "   'time': '16:00',\n",
       "   'team1': {'name': 'Costa Rica', 'code': 'CRC'},\n",
       "   'team2': {'name': 'Serbia', 'code': 'SRB'},\n",
       "   'score1': 0,\n",
       "   'score2': 1,\n",
       "   'score1i': 0,\n",
       "   'score2i': 0,\n",
       "   'goals1': [],\n",
       "   'goals2': [{'name': 'Kolarov', 'minute': 56, 'score1': 0, 'score2': 1}],\n",
       "   'group': 'Group E',\n",
       "   'stadium': {'key': 'samara', 'name': 'Samara Arena'},\n",
       "   'city': 'Samara',\n",
       "   'timezone': 'UTC+4'},\n",
       "  {'num': 11,\n",
       "   'date': '2018-06-17',\n",
       "   'time': '18:00',\n",
       "   'team1': {'name': 'Germany', 'code': 'GER'},\n",
       "   'team2': {'name': 'Mexico', 'code': 'MEX'},\n",
       "   'score1': 0,\n",
       "   'score2': 1,\n",
       "   'score1i': 0,\n",
       "   'score2i': 1,\n",
       "   'goals1': [],\n",
       "   'goals2': [{'name': 'Lozano', 'minute': 35, 'score1': 0, 'score2': 1}],\n",
       "   'group': 'Group F',\n",
       "   'stadium': {'key': 'luzhniki', 'name': 'Luzhniki Stadium'},\n",
       "   'city': 'Moscow',\n",
       "   'timezone': 'UTC+3'}]}"
      ]
     },
     "execution_count": 48,
     "metadata": {},
     "output_type": "execute_result"
    }
   ],
   "source": [
    "# Run this cell without changes\n",
    "rounds = world_cup_data[\"rounds\"]\n",
    "\n",
    "print(\"type(rounds):\", type(rounds))\n",
    "print(\"len(rounds):\", len(rounds))\n",
    "print(\"type(rounds[3])\", type(rounds[3]))\n",
    "print(\"rounds[3]:\")\n",
    "rounds[3]"
   ]
  },
  {
   "cell_type": "code",
   "execution_count": 50,
   "metadata": {},
   "outputs": [
    {
     "data": {
      "text/plain": [
       "{'num': 1,\n",
       " 'date': '2018-06-14',\n",
       " 'time': '18:00',\n",
       " 'team1': {'name': 'Russia', 'code': 'RUS'},\n",
       " 'team2': {'name': 'Saudi Arabia', 'code': 'KSA'},\n",
       " 'score1': 5,\n",
       " 'score2': 0,\n",
       " 'score1i': 2,\n",
       " 'score2i': 0,\n",
       " 'goals1': [{'name': 'Gazinsky', 'minute': 12, 'score1': 1, 'score2': 0},\n",
       "  {'name': 'Cheryshev', 'minute': 43, 'score1': 2, 'score2': 0},\n",
       "  {'name': 'Dzyuba', 'minute': 71, 'score1': 3, 'score2': 0},\n",
       "  {'name': 'Cheryshev', 'minute': 90, 'offset': 1, 'score1': 4, 'score2': 0},\n",
       "  {'name': 'Golovin', 'minute': 90, 'offset': 4, 'score1': 5, 'score2': 0}],\n",
       " 'goals2': [],\n",
       " 'group': 'Group A',\n",
       " 'stadium': {'key': 'luzhniki', 'name': 'Luzhniki Stadium'},\n",
       " 'city': 'Moscow',\n",
       " 'timezone': 'UTC+3'}"
      ]
     },
     "execution_count": 50,
     "metadata": {},
     "output_type": "execute_result"
    }
   ],
   "source": [
    "matches = []\n",
    "\n",
    "# \"round\" is a built-in function in Python so we use \"round_\" instead\n",
    "for round_ in rounds:\n",
    "    # Extract the list of matches for this round\n",
    "    round_matches = round_['matches']\n",
    "    # Add them to the overall list of matches\n",
    "    matches.extend(round_matches)\n",
    "\n",
    "matches[0]  # Preview the first match\n"
   ]
  },
  {
   "cell_type": "code",
   "execution_count": 51,
   "metadata": {},
   "outputs": [],
   "source": [
    "# Run this cell without changes\n",
    "\n",
    "# There should be 64 matches. If the length is 20, that means\n",
    "# you have a list of lists instead of a list of dictionaries\n",
    "assert len(matches) == 64\n",
    "\n",
    "# Each match in the list should be a dictionary\n",
    "assert type(matches[0]) == dict"
   ]
  },
  {
   "cell_type": "code",
   "execution_count": 52,
   "metadata": {},
   "outputs": [
    {
     "name": "stdout",
     "output_type": "stream",
     "text": [
      "{'name': 'Russia', 'code': 'RUS'}\n",
      "{'name': 'Saudi Arabia', 'code': 'KSA'}\n"
     ]
    }
   ],
   "source": [
    "# Run this cell without changes\n",
    "print(matches[0][\"team1\"])\n",
    "print(matches[0][\"team2\"])"
   ]
  },
  {
   "cell_type": "code",
   "execution_count": 53,
   "metadata": {},
   "outputs": [
    {
     "name": "stdout",
     "output_type": "stream",
     "text": [
      "['Argentina', 'Australia', 'Belgium', 'Brazil', 'Colombia', 'Costa Rica', 'Croatia', 'Denmark', 'Egypt', 'England', 'France', 'Germany', 'Iceland', 'Iran', 'Japan', 'Mexico', 'Morocco', 'Nigeria', 'Panama', 'Peru', 'Poland', 'Portugal', 'Russia', 'Saudi Arabia', 'Senegal', 'Serbia', 'South Korea', 'Spain', 'Sweden', 'Switzerland', 'Tunisia', 'Uruguay']\n"
     ]
    }
   ],
   "source": [
    "# Create a set to store unique team names\n",
    "teams = set()\n",
    "\n",
    "# Loop through each match\n",
    "for match in matches:\n",
    "    # Add team1 and team2 names to the set\n",
    "    teams.add(match[\"team1\"][\"name\"])\n",
    "    teams.add(match[\"team2\"][\"name\"])\n",
    "\n",
    "# Convert the set to a sorted list\n",
    "teams = sorted(teams)\n",
    "\n",
    "# Optional: preview the result\n",
    "print(teams)\n"
   ]
  },
  {
   "cell_type": "code",
   "execution_count": 54,
   "metadata": {},
   "outputs": [],
   "source": [
    "# Run this cell without changes\n",
    "\n",
    "# teams should be a list, not a set\n",
    "assert type(teams) == list\n",
    "\n",
    "# 32 teams competed in the 2018 World Cup\n",
    "assert len(teams) == 32\n",
    "\n",
    "# Each element of teams should be a string\n",
    "# (the name), not a dictionary\n",
    "assert type(teams[0]) == str"
   ]
  },
  {
   "cell_type": "code",
   "execution_count": 55,
   "metadata": {},
   "outputs": [],
   "source": [
    "world_cup_2018 = {\n",
    "    \"France\":       {\"wins\": 6,   \"population_2018\": 65233271},\n",
    "    \"Croatia\":      {\"wins\": 4,   \"population_2018\": 4164783},\n",
    "    \"Belgium\":      {\"wins\": 4,   \"population_2018\": 11498519},\n",
    "    \"England\":      {\"wins\": 3,   \"population_2018\": 55922000},\n",
    "    \"Brazil\":       {\"wins\": 2,   \"population_2018\": 210867954},\n",
    "    \"Uruguay\":      {\"wins\": 2,   \"population_2018\": 3469551},\n",
    "    \"Sweden\":       {\"wins\": 2,   \"population_2018\": 9982709},\n",
    "    # ... add other teams similarly\n",
    "}\n"
   ]
  },
  {
   "cell_type": "code",
   "execution_count": 56,
   "metadata": {},
   "outputs": [
    {
     "ename": "SyntaxError",
     "evalue": "unexpected EOF while parsing (<ipython-input-56-e9d6ebf21705>, line 33)",
     "output_type": "error",
     "traceback": [
      "\u001b[1;36m  File \u001b[1;32m\"<ipython-input-56-e9d6ebf21705>\"\u001b[1;36m, line \u001b[1;32m33\u001b[0m\n\u001b[1;33m    'Uruguay': { 'wins':\u001b[0m\n\u001b[1;37m                        ^\u001b[0m\n\u001b[1;31mSyntaxError\u001b[0m\u001b[1;31m:\u001b[0m unexpected EOF while parsing\n"
     ]
    }
   ],
   "source": [
    "{\n",
    "  'Argentina': { 'wins': 0 },\n",
    "  'Australia': { 'wins': 0 },\n",
    "  'Belgium': { 'wins': 0 },\n",
    "  'Brazil': { 'wins': 0 },\n",
    "  'Colombia': { 'wins': 0 },\n",
    "  'Costa Rica': { 'wins': 0 },\n",
    "  'Croatia': { 'wins': 0 },\n",
    "  'Denmark': { 'wins': 0 },\n",
    "  'Egypt': { 'wins': 0 },\n",
    "  'England': { 'wins': 0 },\n",
    "  'France': { 'wins': 0 },\n",
    "  'Germany': { 'wins': 0 },\n",
    "  'Iceland': { 'wins': 0 },\n",
    "  'Iran': { 'wins': 0 },\n",
    "  'Japan': { 'wins': 0 },\n",
    "  'Mexico': { 'wins': 0 },\n",
    "  'Morocco': { 'wins': 0 },\n",
    "  'Nigeria': { 'wins': 0 },\n",
    "  'Panama': { 'wins': 0 },\n",
    "  'Peru': { 'wins': 0 },\n",
    "  'Poland': { 'wins': 0 },\n",
    "  'Portugal': { 'wins': 0 },\n",
    "  'Russia': { 'wins': 0 },\n",
    "  'Saudi Arabia': { 'wins': 0 },\n",
    "  'Senegal': { 'wins': 0 },\n",
    "  'Serbia': { 'wins': 0 },\n",
    "  'South Korea': { 'wins': 0 },\n",
    "  'Spain': { 'wins': 0 },\n",
    "  'Sweden': { 'wins': 0 },\n",
    "  'Switzerland': { 'wins': 0 },\n",
    "  'Tunisia': { 'wins': 0 },\n",
    "  'Uruguay': { 'wins':\n"
   ]
  },
  {
   "cell_type": "code",
   "execution_count": 57,
   "metadata": {},
   "outputs": [],
   "source": [
    "world_cup_2018 = {\n",
    "    'Argentina': { 'wins': 0 },\n",
    "    'Australia': { 'wins': 0 },\n",
    "    'Belgium': { 'wins': 0 },\n",
    "    'Brazil': { 'wins': 0 },\n",
    "    'Colombia': { 'wins': 0 },\n",
    "    'Costa Rica': { 'wins': 0 },\n",
    "    'Croatia': { 'wins': 0 },\n",
    "    'Denmark': { 'wins': 0 },\n",
    "    'Egypt': { 'wins': 0 },\n",
    "    'England': { 'wins': 0 },\n",
    "    'France': { 'wins': 0 },\n",
    "    'Germany': { 'wins': 0 },\n",
    "    'Iceland': { 'wins': 0 },\n",
    "    'Iran': { 'wins': 0 },\n",
    "    'Japan': { 'wins': 0 },\n",
    "    'Mexico': { 'wins': 0 },\n",
    "    'Morocco': { 'wins': 0 },\n",
    "    'Nigeria': { 'wins': 0 },\n",
    "    'Panama': { 'wins': 0 },\n",
    "    'Peru': { 'wins': 0 },\n",
    "    'Poland': { 'wins': 0 },\n",
    "    'Portugal': { 'wins': 0 },\n",
    "    'Russia': { 'wins': 0 },\n",
    "    'Saudi Arabia': { 'wins': 0 },\n",
    "    'Senegal': { 'wins': 0 },\n",
    "    'Serbia': { 'wins': 0 },\n",
    "    'South Korea': { 'wins': 0 },\n",
    "    'Spain': { 'wins': 0 },\n",
    "    'Sweden': { 'wins': 0 },\n",
    "    'Switzerland': { 'wins': 0 },\n",
    "    'Tunisia': { 'wins': 0 },\n",
    "    'Uruguay': { 'wins': 0 }\n",
    "}\n"
   ]
  },
  {
   "cell_type": "code",
   "execution_count": 58,
   "metadata": {},
   "outputs": [],
   "source": [
    "teams = [\n",
    "    'Argentina', 'Australia', 'Belgium', 'Brazil', 'Colombia', 'Costa Rica',\n",
    "    'Croatia', 'Denmark', 'Egypt', 'England', 'France', 'Germany',\n",
    "    'Iceland', 'Iran', 'Japan', 'Mexico', 'Morocco', 'Nigeria', 'Panama',\n",
    "    'Peru', 'Poland', 'Portugal', 'Russia', 'Saudi Arabia', 'Senegal',\n",
    "    'Serbia', 'South Korea', 'Spain', 'Sweden', 'Switzerland', 'Tunisia', 'Uruguay'\n",
    "]\n",
    "\n",
    "# Initialize the dictionary with separate dict objects\n",
    "combined_data = { team: {'wins': 0} for team in teams }\n"
   ]
  },
  {
   "cell_type": "code",
   "execution_count": 59,
   "metadata": {},
   "outputs": [],
   "source": [
    "# Create the variable combined_data as described above\n",
    "combined_data = { team: {'wins': 0} for team in teams }\n"
   ]
  },
  {
   "cell_type": "code",
   "execution_count": 60,
   "metadata": {},
   "outputs": [],
   "source": [
    "# Create the variable combined_data as described above\n",
    "combined_data = { team: {'wins': 0} for team in teams }\n"
   ]
  },
  {
   "cell_type": "code",
   "execution_count": 61,
   "metadata": {},
   "outputs": [],
   "source": [
    "teams = [\n",
    "    'Argentina', 'Australia', 'Belgium', 'Brazil', 'Colombia', 'Costa Rica',\n",
    "    'Croatia', 'Denmark', 'Egypt', 'England', 'France', 'Germany',\n",
    "    'Iceland', 'Iran', 'Japan', 'Mexico', 'Morocco', 'Nigeria', 'Panama',\n",
    "    'Peru', 'Poland', 'Portugal', 'Russia', 'Saudi Arabia', 'Senegal',\n",
    "    'Serbia', 'South Korea', 'Spain', 'Sweden', 'Switzerland', 'Tunisia', 'Uruguay'\n",
    "]\n"
   ]
  },
  {
   "cell_type": "code",
   "execution_count": 62,
   "metadata": {},
   "outputs": [],
   "source": [
    "# Run this cell without changes\n",
    "\n",
    "# combined_data should be a dictionary\n",
    "assert type(combined_data) == dict\n",
    "\n",
    "# the keys should be strings\n",
    "assert type(list(combined_data.keys())[0]) == str\n",
    "\n",
    "# the values should be dictionaries\n",
    "assert combined_data[\"Japan\"] == {\"wins\": 0}"
   ]
  },
  {
   "cell_type": "code",
   "execution_count": 63,
   "metadata": {},
   "outputs": [
    {
     "data": {
      "text/plain": [
       "{'num': 1,\n",
       " 'date': '2018-06-14',\n",
       " 'time': '18:00',\n",
       " 'team1': {'name': 'Russia', 'code': 'RUS'},\n",
       " 'team2': {'name': 'Saudi Arabia', 'code': 'KSA'},\n",
       " 'score1': 5,\n",
       " 'score2': 0,\n",
       " 'score1i': 2,\n",
       " 'score2i': 0,\n",
       " 'goals1': [{'name': 'Gazinsky', 'minute': 12, 'score1': 1, 'score2': 0},\n",
       "  {'name': 'Cheryshev', 'minute': 43, 'score1': 2, 'score2': 0},\n",
       "  {'name': 'Dzyuba', 'minute': 71, 'score1': 3, 'score2': 0},\n",
       "  {'name': 'Cheryshev', 'minute': 90, 'offset': 1, 'score1': 4, 'score2': 0},\n",
       "  {'name': 'Golovin', 'minute': 90, 'offset': 4, 'score1': 5, 'score2': 0}],\n",
       " 'goals2': [],\n",
       " 'group': 'Group A',\n",
       " 'stadium': {'key': 'luzhniki', 'name': 'Luzhniki Stadium'},\n",
       " 'city': 'Moscow',\n",
       " 'timezone': 'UTC+3'}"
      ]
     },
     "execution_count": 63,
     "metadata": {},
     "output_type": "execute_result"
    }
   ],
   "source": [
    "{\n",
    "  'num': 1,\n",
    "  'date': '2018-06-14',\n",
    "  'time': '18:00',\n",
    "  'team1': { 'name': 'Russia',       'code': 'RUS' },\n",
    "  'team2': { 'name': 'Saudi Arabia', 'code': 'KSA' },\n",
    "  'score1': 5,\n",
    "  'score2': 0,\n",
    "  'score1i': 2,\n",
    "  'score2i': 0,\n",
    "  'goals1': [\n",
    "    { 'name': 'Gazinsky',  'minute': 12, 'score1': 1, 'score2': 0 },\n",
    "    { 'name': 'Cheryshev', 'minute': 43, 'score1': 2, 'score2': 0 },\n",
    "    { 'name': 'Dzyuba',    'minute': 71, 'score1': 3, 'score2': 0 },\n",
    "    { 'name': 'Cheryshev', 'minute': 90, 'offset': 1, 'score1': 4, 'score2': 0 },\n",
    "    { 'name': 'Golovin',   'minute': 90, 'offset': 4, 'score1': 5, 'score2': 0 }\n",
    "  ],\n",
    "  'goals2': [],\n",
    "  'group': 'Group A',\n",
    "  'stadium': { 'key': 'luzhniki', 'name': 'Luzhniki Stadium' },\n",
    "  'city': 'Moscow',\n",
    "  'timezone': 'UTC+3'\n",
    "}"
   ]
  },
  {
   "cell_type": "code",
   "execution_count": 64,
   "metadata": {},
   "outputs": [],
   "source": [
    "def find_winner(match):\n",
    "    \"\"\"\n",
    "    Given a dictionary containing information about a match,\n",
    "    return the name of the winner (or None in the case of a tie)\n",
    "    \"\"\"\n",
    "    if match['score1'] > match['score2']:\n",
    "        return match['team1']\n",
    "    elif match['score2'] > match['score1']:\n",
    "        return match['team2']\n",
    "    else:\n",
    "        return None\n"
   ]
  },
  {
   "cell_type": "code",
   "execution_count": 65,
   "metadata": {},
   "outputs": [
    {
     "ename": "AssertionError",
     "evalue": "",
     "output_type": "error",
     "traceback": [
      "\u001b[1;31m---------------------------------------------------------------------------\u001b[0m",
      "\u001b[1;31mAssertionError\u001b[0m                            Traceback (most recent call last)",
      "\u001b[1;32m<ipython-input-65-650b606e6889>\u001b[0m in \u001b[0;36m<module>\u001b[1;34m\u001b[0m\n\u001b[0;32m      1\u001b[0m \u001b[1;31m# Run this cell without changes\u001b[0m\u001b[1;33m\u001b[0m\u001b[1;33m\u001b[0m\u001b[1;33m\u001b[0m\u001b[0m\n\u001b[1;32m----> 2\u001b[1;33m \u001b[1;32massert\u001b[0m \u001b[0mfind_winner\u001b[0m\u001b[1;33m(\u001b[0m\u001b[0mmatches\u001b[0m\u001b[1;33m[\u001b[0m\u001b[1;36m0\u001b[0m\u001b[1;33m]\u001b[0m\u001b[1;33m)\u001b[0m \u001b[1;33m==\u001b[0m \u001b[1;34m\"Russia\"\u001b[0m\u001b[1;33m\u001b[0m\u001b[1;33m\u001b[0m\u001b[0m\n\u001b[0m\u001b[0;32m      3\u001b[0m \u001b[1;32massert\u001b[0m \u001b[0mfind_winner\u001b[0m\u001b[1;33m(\u001b[0m\u001b[0mmatches\u001b[0m\u001b[1;33m[\u001b[0m\u001b[1;36m1\u001b[0m\u001b[1;33m]\u001b[0m\u001b[1;33m)\u001b[0m \u001b[1;33m==\u001b[0m \u001b[1;34m\"Uruguay\"\u001b[0m\u001b[1;33m\u001b[0m\u001b[1;33m\u001b[0m\u001b[0m\n\u001b[0;32m      4\u001b[0m \u001b[1;32massert\u001b[0m \u001b[0mfind_winner\u001b[0m\u001b[1;33m(\u001b[0m\u001b[0mmatches\u001b[0m\u001b[1;33m[\u001b[0m\u001b[1;36m2\u001b[0m\u001b[1;33m]\u001b[0m\u001b[1;33m)\u001b[0m \u001b[1;33m==\u001b[0m \u001b[1;32mNone\u001b[0m\u001b[1;33m\u001b[0m\u001b[1;33m\u001b[0m\u001b[0m\n",
      "\u001b[1;31mAssertionError\u001b[0m: "
     ]
    }
   ],
   "source": [
    "# Run this cell without changes\n",
    "assert find_winner(matches[0]) == \"Russia\"\n",
    "assert find_winner(matches[1]) == \"Uruguay\"\n",
    "assert find_winner(matches[2]) == None"
   ]
  },
  {
   "cell_type": "code",
   "execution_count": 66,
   "metadata": {},
   "outputs": [
    {
     "name": "stdout",
     "output_type": "stream",
     "text": [
      "{'num': 1, 'date': '2018-06-14', 'time': '18:00', 'team1': {'name': 'Russia', 'code': 'RUS'}, 'team2': {'name': 'Saudi Arabia', 'code': 'KSA'}, 'score1': 5, 'score2': 0, 'score1i': 2, 'score2i': 0, 'goals1': [{'name': 'Gazinsky', 'minute': 12, 'score1': 1, 'score2': 0}, {'name': 'Cheryshev', 'minute': 43, 'score1': 2, 'score2': 0}, {'name': 'Dzyuba', 'minute': 71, 'score1': 3, 'score2': 0}, {'name': 'Cheryshev', 'minute': 90, 'offset': 1, 'score1': 4, 'score2': 0}, {'name': 'Golovin', 'minute': 90, 'offset': 4, 'score1': 5, 'score2': 0}], 'goals2': [], 'group': 'Group A', 'stadium': {'key': 'luzhniki', 'name': 'Luzhniki Stadium'}, 'city': 'Moscow', 'timezone': 'UTC+3'}\n",
      "{'name': 'Russia', 'code': 'RUS'}\n"
     ]
    }
   ],
   "source": [
    "print(matches[0])\n",
    "print(find_winner(matches[0]))\n"
   ]
  },
  {
   "cell_type": "code",
   "execution_count": 67,
   "metadata": {},
   "outputs": [],
   "source": [
    "def find_winner(match):\n",
    "    \"\"\"\n",
    "    Given a dictionary containing information about a match,\n",
    "    return the name of the winner (or None in the case of a tie)\n",
    "    \"\"\"\n",
    "    if match['score1'] > match['score2']:\n",
    "        return match['team1']['name']\n",
    "    elif match['score2'] > match['score1']:\n",
    "        return match['team2']['name']\n",
    "    else:\n",
    "        return None\n"
   ]
  },
  {
   "cell_type": "code",
   "execution_count": 68,
   "metadata": {},
   "outputs": [],
   "source": [
    "# Run this cell without changes\n",
    "assert find_winner(matches[0]) == \"Russia\"\n",
    "assert find_winner(matches[1]) == \"Uruguay\"\n",
    "assert find_winner(matches[2]) == None"
   ]
  },
  {
   "cell_type": "code",
   "execution_count": 69,
   "metadata": {},
   "outputs": [],
   "source": [
    "for match in matches:\n",
    "    winner = find_winner(match)\n",
    "    if winner is not None:\n",
    "        combined_data[winner]['wins'] += 1\n"
   ]
  },
  {
   "cell_type": "code",
   "execution_count": 70,
   "metadata": {},
   "outputs": [
    {
     "name": "stdout",
     "output_type": "stream",
     "text": [
      "Mean number of wins: 1.5625\n",
      "Median number of wins: 1.0\n",
      "Standard deviation of number of wins: 1.5194057226429023\n"
     ]
    }
   ],
   "source": [
    "# Run this cell without changes\n",
    "import numpy as np\n",
    "\n",
    "wins = [val[\"wins\"] for val in combined_data.values()]\n",
    "\n",
    "print(\"Mean number of wins:\", np.mean(wins))\n",
    "print(\"Median number of wins:\", np.median(wins))\n",
    "print(\"Standard deviation of number of wins:\", np.std(wins))"
   ]
  },
  {
   "cell_type": "code",
   "execution_count": 71,
   "metadata": {},
   "outputs": [
    {
     "data": {
      "image/png": "[encoded data removed]",
      "text/plain": [
       "<Figure size 864x504 with 2 Axes>"
      ]
     },
     "metadata": {
      "needs_background": "light"
     },
     "output_type": "display_data"
    }
   ],
   "source": [
    "# Run this cell without changes\n",
    "import matplotlib.pyplot as plt\n",
    "\n",
    "# Set up figure and axes\n",
    "fig, (ax1, ax2) = plt.subplots(ncols=2, figsize=(12, 7))\n",
    "fig.set_tight_layout(True)\n",
    "\n",
    "# Histogram of Wins and Frequencies\n",
    "ax1.hist(x=wins, bins=range(8), align=\"left\", color=\"green\")\n",
    "ax1.set_xticks(range(7))\n",
    "ax1.set_xlabel(\"Wins in 2018 World Cup\")\n",
    "ax1.set_ylabel(\"Frequency\")\n",
    "ax1.set_title(\"Distribution of Wins\")\n",
    "\n",
    "# Horizontal Bar Graph of Wins by Country\n",
    "ax2.barh(teams[::-1], wins[::-1], color=\"green\")\n",
    "ax2.set_xlabel(\"Wins in 2018 World Cup\")\n",
    "ax2.set_title(\"Wins by Country\");"
   ]
  },
  {
   "cell_type": "code",
   "execution_count": 73,
   "metadata": {},
   "outputs": [
    {
     "data": {
      "text/plain": [
       "12695"
      ]
     },
     "execution_count": 73,
     "metadata": {},
     "output_type": "execute_result"
    }
   ],
   "source": [
    "# Run this cell without changes\n",
    "len(population_data)\n"
   ]
  },
  {
   "cell_type": "code",
   "execution_count": 74,
   "metadata": {},
   "outputs": [
    {
     "data": {
      "text/plain": [
       "array([{'': '9984', 'Country Name': 'Malta', 'Country Code': 'MLT', 'Year': '1983', 'Value': '330524'},\n",
       "       {'': '3574', 'Country Name': 'Bahrain', 'Country Code': 'BHR', 'Year': '1994', 'Value': '549583'},\n",
       "       {'': '8104', 'Country Name': 'Iran, Islamic Rep.', 'Country Code': 'IRN', 'Year': '1988', 'Value': '53077313'},\n",
       "       {'': '7905', 'Country Name': 'Iceland', 'Country Code': 'ISL', 'Year': '1966', 'Value': '195570'},\n",
       "       {'': '14678', 'Country Name': 'United Arab Emirates', 'Country Code': 'ARE', 'Year': '1966', 'Value': '159976'},\n",
       "       {'': '13998', 'Country Name': 'Thailand', 'Country Code': 'THA', 'Year': '1994', 'Value': '58875269'},\n",
       "       {'': '8448', 'Country Name': 'Jamaica', 'Country Code': 'JAM', 'Year': '1978', 'Value': '2105907'},\n",
       "       {'': '8979', 'Country Name': 'Kuwait', 'Country Code': 'KWT', 'Year': '1978', 'Value': '1224067'},\n",
       "       {'': '3180', 'Country Name': 'Argentina', 'Country Code': 'ARG', 'Year': '2013', 'Value': '42202935'},\n",
       "       {'': '7140', 'Country Name': 'Gibraltar', 'Country Code': 'GIB', 'Year': '1968', 'Value': '27685'}],\n",
       "      dtype=object)"
      ]
     },
     "execution_count": 74,
     "metadata": {},
     "output_type": "execute_result"
    }
   ],
   "source": [
    "# Run this cell without changes\n",
    "np.random.seed(42)\n",
    "population_record_samples = np.random.choice(population_data, size=10)\n",
    "population_record_samples"
   ]
  },
  {
   "cell_type": "code",
   "execution_count": 76,
   "metadata": {},
   "outputs": [
    {
     "data": {
      "text/plain": [
       "27"
      ]
     },
     "execution_count": 76,
     "metadata": {},
     "output_type": "execute_result"
    }
   ],
   "source": [
    "population_data_filtered = []\n",
    "\n",
    "for record in population_data:\n",
    "    if record['Country Name'] in teams and record['Year'] == \"2018\":\n",
    "        population_data_filtered.append(record)\n",
    "\n",
    "len(population_data_filtered)  # Should be 27\n",
    "\n"
   ]
  },
  {
   "cell_type": "code",
   "execution_count": 77,
   "metadata": {},
   "outputs": [
    {
     "data": {
      "text/plain": [
       "{'': '8104',\n",
       " 'Country Name': 'Iran, Islamic Rep.',\n",
       " 'Country Code': 'IRN',\n",
       " 'Year': '1988',\n",
       " 'Value': '53077313'}"
      ]
     },
     "execution_count": 77,
     "metadata": {},
     "output_type": "execute_result"
    }
   ],
   "source": [
    "# Run this cell without changes\n",
    "population_record_samples[2]"
   ]
  },
  {
   "cell_type": "code",
   "execution_count": 78,
   "metadata": {},
   "outputs": [
    {
     "data": {
      "text/plain": [
       "{'': '8104',\n",
       " 'Country Name': 'Iran, Islamic Rep.',\n",
       " 'Country Code': 'IRN',\n",
       " 'Year': '1988',\n",
       " 'Value': '53077313'}"
      ]
     },
     "execution_count": 78,
     "metadata": {},
     "output_type": "execute_result"
    }
   ],
   "source": [
    "# Run this cell without changes\n",
    "population_record_samples[2]"
   ]
  },
  {
   "cell_type": "code",
   "execution_count": 79,
   "metadata": {},
   "outputs": [
    {
     "data": {
      "text/plain": [
       "'Iran'"
      ]
     },
     "execution_count": 79,
     "metadata": {},
     "output_type": "execute_result"
    }
   ],
   "source": [
    "# Run this cell without changes\n",
    "teams[13]"
   ]
  },
  {
   "cell_type": "code",
   "execution_count": 80,
   "metadata": {},
   "outputs": [
    {
     "name": "stdout",
     "output_type": "stream",
     "text": [
      "Russia\n",
      "Argentina\n"
     ]
    }
   ],
   "source": [
    "# Run this cell without changes\n",
    "def normalize_location(country_name):\n",
    "    \"\"\"\n",
    "    Given a country name, return the name that the\n",
    "    country uses when playing in the FIFA World Cup\n",
    "    \"\"\"\n",
    "    name_sub_dict = {\n",
    "        \"Russian Federation\": \"Russia\",\n",
    "        \"Egypt, Arab Rep.\": \"Egypt\",\n",
    "        \"Iran, Islamic Rep.\": \"Iran\",\n",
    "        \"Korea, Rep.\": \"South Korea\",\n",
    "        \"United Kingdom\": \"England\",\n",
    "    }\n",
    "    # The .get method returns the corresponding value from\n",
    "    # the dict if present, otherwise returns country_name\n",
    "    return name_sub_dict.get(country_name, country_name)\n",
    "\n",
    "\n",
    "# Example where normalized location is different\n",
    "print(normalize_location(\"Russian Federation\"))\n",
    "# Example where normalized location is the same\n",
    "print(normalize_location(\"Argentina\"))"
   ]
  },
  {
   "cell_type": "code",
   "execution_count": 81,
   "metadata": {},
   "outputs": [
    {
     "ename": "NameError",
     "evalue": "name 'name_mapping' is not defined",
     "output_type": "error",
     "traceback": [
      "\u001b[1;31m---------------------------------------------------------------------------\u001b[0m",
      "\u001b[1;31mNameError\u001b[0m                                 Traceback (most recent call last)",
      "\u001b[1;32m<ipython-input-81-f8c560e5627d>\u001b[0m in \u001b[0;36m<module>\u001b[1;34m\u001b[0m\n\u001b[0;32m      4\u001b[0m     \u001b[1;31m# Normalize country name\u001b[0m\u001b[1;33m\u001b[0m\u001b[1;33m\u001b[0m\u001b[1;33m\u001b[0m\u001b[0m\n\u001b[0;32m      5\u001b[0m     \u001b[0mcountry_name\u001b[0m \u001b[1;33m=\u001b[0m \u001b[0mrecord\u001b[0m\u001b[1;33m[\u001b[0m\u001b[1;34m'Country Name'\u001b[0m\u001b[1;33m]\u001b[0m\u001b[1;33m\u001b[0m\u001b[1;33m\u001b[0m\u001b[0m\n\u001b[1;32m----> 6\u001b[1;33m     \u001b[0mnormalized_name\u001b[0m \u001b[1;33m=\u001b[0m \u001b[0mname_mapping\u001b[0m\u001b[1;33m.\u001b[0m\u001b[0mget\u001b[0m\u001b[1;33m(\u001b[0m\u001b[0mcountry_name\u001b[0m\u001b[1;33m,\u001b[0m \u001b[0mcountry_name\u001b[0m\u001b[1;33m)\u001b[0m  \u001b[1;31m# Use mapping if exists, else original\u001b[0m\u001b[1;33m\u001b[0m\u001b[1;33m\u001b[0m\u001b[0m\n\u001b[0m\u001b[0;32m      7\u001b[0m \u001b[1;33m\u001b[0m\u001b[0m\n\u001b[0;32m      8\u001b[0m     \u001b[1;31m# Filter by normalized name and year 2018\u001b[0m\u001b[1;33m\u001b[0m\u001b[1;33m\u001b[0m\u001b[1;33m\u001b[0m\u001b[0m\n",
      "\u001b[1;31mNameError\u001b[0m: name 'name_mapping' is not defined"
     ]
    }
   ],
   "source": []
  },
  {
   "cell_type": "code",
   "execution_count": 82,
   "metadata": {},
   "outputs": [
    {
     "data": {
      "text/plain": [
       "31"
      ]
     },
     "execution_count": 82,
     "metadata": {},
     "output_type": "execute_result"
    }
   ],
   "source": [
    "# Example mapping of population_data country names to normalized team names\n",
    "name_mapping = {\n",
    "    'United States': 'USA',\n",
    "    'Russian Federation': 'Russia',\n",
    "    'Korea, Rep.': 'South Korea',\n",
    "    'Iran, Islamic Rep.': 'Iran',\n",
    "    'Egypt, Arab Rep.': 'Egypt',\n",
    "    'Czech Republic': 'Czechia',\n",
    "    'Venezuela, RB': 'Venezuela',\n",
    "    'Slovak Republic': 'Slovakia',\n",
    "    # Add any other necessary mappings here\n",
    "}\n",
    "\n",
    "population_data_filtered = []\n",
    "\n",
    "for record in population_data:\n",
    "    # Normalize country name\n",
    "    country_name = record['Country Name']\n",
    "    normalized_name = name_mapping.get(country_name, country_name)  # Use mapping if exists, else original\n",
    "    \n",
    "    # Filter by normalized name and year 2018\n",
    "    if normalized_name in teams and record['Year'] == \"2018\":\n",
    "        # Replace the country name in the record with normalized name\n",
    "        record['Country Name'] = normalized_name\n",
    "        \n",
    "        # Append the filtered, normalized record\n",
    "        population_data_filtered.append(record)\n",
    "\n",
    "len(population_data_filtered)  # Should be 32\n"
   ]
  },
  {
   "cell_type": "code",
   "execution_count": 83,
   "metadata": {},
   "outputs": [
    {
     "data": {
      "text/plain": [
       "{'': '3185',\n",
       " 'Country Name': 'Argentina',\n",
       " 'Country Code': 'ARG',\n",
       " 'Year': '2018',\n",
       " 'Value': '44494502'}"
      ]
     },
     "execution_count": 83,
     "metadata": {},
     "output_type": "execute_result"
    }
   ],
   "source": [
    "# Run this cell without changes\n",
    "population_data_filtered[0]"
   ]
  },
  {
   "cell_type": "code",
   "execution_count": 84,
   "metadata": {},
   "outputs": [
    {
     "data": {
      "text/plain": [
       "{'': '14907',\n",
       " 'Country Name': 'Uruguay',\n",
       " 'Country Code': 'URY',\n",
       " 'Year': '2018',\n",
       " 'Value': 3449299}"
      ]
     },
     "execution_count": 84,
     "metadata": {},
     "output_type": "execute_result"
    }
   ],
   "source": [
    "# Replace None with appropriate code\n",
    "for record in population_data_filtered:\n",
    "    # Convert the population value from str to int\n",
    "    record[\"Value\"] = int(record[\"Value\"])\n",
    "\n",
    "# Look at the last record to make sure the population value is an int\n",
    "population_data_filtered[-1]\n"
   ]
  },
  {
   "cell_type": "code",
   "execution_count": 85,
   "metadata": {},
   "outputs": [],
   "source": [
    "# Run this cell without changes\n",
    "assert type(population_data_filtered[-1][\"Value\"]) == int"
   ]
  },
  {
   "cell_type": "code",
   "execution_count": 86,
   "metadata": {},
   "outputs": [
    {
     "data": {
      "text/plain": [
       "{'Argentina': {'wins': 1},\n",
       " 'Australia': {'wins': 0},\n",
       " 'Belgium': {'wins': 6},\n",
       " 'Brazil': {'wins': 3},\n",
       " 'Colombia': {'wins': 2},\n",
       " 'Costa Rica': {'wins': 0},\n",
       " 'Croatia': {'wins': 3},\n",
       " 'Denmark': {'wins': 1},\n",
       " 'Egypt': {'wins': 0},\n",
       " 'England': {'wins': 3},\n",
       " 'France': {'wins': 6},\n",
       " 'Germany': {'wins': 1},\n",
       " 'Iceland': {'wins': 0},\n",
       " 'Iran': {'wins': 1},\n",
       " 'Japan': {'wins': 1},\n",
       " 'Mexico': {'wins': 2},\n",
       " 'Morocco': {'wins': 0},\n",
       " 'Nigeria': {'wins': 1},\n",
       " 'Panama': {'wins': 0},\n",
       " 'Peru': {'wins': 1},\n",
       " 'Poland': {'wins': 1},\n",
       " 'Portugal': {'wins': 1},\n",
       " 'Russia': {'wins': 2},\n",
       " 'Saudi Arabia': {'wins': 1},\n",
       " 'Senegal': {'wins': 1},\n",
       " 'Serbia': {'wins': 1},\n",
       " 'South Korea': {'wins': 1},\n",
       " 'Spain': {'wins': 1},\n",
       " 'Sweden': {'wins': 3},\n",
       " 'Switzerland': {'wins': 1},\n",
       " 'Tunisia': {'wins': 1},\n",
       " 'Uruguay': {'wins': 4}}"
      ]
     },
     "execution_count": 86,
     "metadata": {},
     "output_type": "execute_result"
    }
   ],
   "source": [
    "# Run this cell without changes\n",
    "combined_data"
   ]
  },
  {
   "cell_type": "code",
   "execution_count": 87,
   "metadata": {},
   "outputs": [
    {
     "data": {
      "text/plain": [
       "{'Argentina': {'wins': 1, 'population_2018': 44494502},\n",
       " 'Australia': {'wins': 0, 'population_2018': 24982688},\n",
       " 'Belgium': {'wins': 6, 'population_2018': 11433256},\n",
       " 'Brazil': {'wins': 3, 'population_2018': 209469333},\n",
       " 'Colombia': {'wins': 2, 'population_2018': 49648685},\n",
       " 'Costa Rica': {'wins': 0, 'population_2018': 4999441},\n",
       " 'Croatia': {'wins': 3, 'population_2018': 4087843},\n",
       " 'Denmark': {'wins': 1, 'population_2018': 5793636},\n",
       " 'Egypt': {'wins': 0, 'population_2018': 98423595},\n",
       " 'England': {'wins': 3},\n",
       " 'France': {'wins': 6, 'population_2018': 66977107},\n",
       " 'Germany': {'wins': 1, 'population_2018': 82905782},\n",
       " 'Iceland': {'wins': 0, 'population_2018': 352721},\n",
       " 'Iran': {'wins': 1, 'population_2018': 81800269},\n",
       " 'Japan': {'wins': 1, 'population_2018': 126529100},\n",
       " 'Mexico': {'wins': 2, 'population_2018': 126190788},\n",
       " 'Morocco': {'wins': 0, 'population_2018': 36029138},\n",
       " 'Nigeria': {'wins': 1, 'population_2018': 195874740},\n",
       " 'Panama': {'wins': 0, 'population_2018': 4176873},\n",
       " 'Peru': {'wins': 1, 'population_2018': 31989256},\n",
       " 'Poland': {'wins': 1, 'population_2018': 37974750},\n",
       " 'Portugal': {'wins': 1, 'population_2018': 10283822},\n",
       " 'Russia': {'wins': 2, 'population_2018': 144478050},\n",
       " 'Saudi Arabia': {'wins': 1, 'population_2018': 33699947},\n",
       " 'Senegal': {'wins': 1, 'population_2018': 15854360},\n",
       " 'Serbia': {'wins': 1, 'population_2018': 6982604},\n",
       " 'South Korea': {'wins': 1, 'population_2018': 51606633},\n",
       " 'Spain': {'wins': 1, 'population_2018': 46796540},\n",
       " 'Sweden': {'wins': 3, 'population_2018': 10175214},\n",
       " 'Switzerland': {'wins': 1, 'population_2018': 8513227},\n",
       " 'Tunisia': {'wins': 1, 'population_2018': 11565204},\n",
       " 'Uruguay': {'wins': 4, 'population_2018': 3449299}}"
      ]
     },
     "execution_count": 87,
     "metadata": {},
     "output_type": "execute_result"
    }
   ],
   "source": [
    "# Replace None with appropriate code\n",
    "for record in population_data_filtered:\n",
    "    # Extract the country name from the record\n",
    "    country = record['Country Name']\n",
    "    \n",
    "    # Extract the population value from the record\n",
    "    population = record['Value']\n",
    "    \n",
    "    # Add this information to combined_data\n",
    "    combined_data[country]['population_2018'] = population\n",
    "\n",
    "# Look at combined_data\n",
    "combined_data\n"
   ]
  },
  {
   "cell_type": "code",
   "execution_count": 89,
   "metadata": {},
   "outputs": [],
   "source": [
    "for record in population_data_filtered:\n",
    "    # Extract the country name from the record\n",
    "    country = record['Country Name']\n",
    "    \n",
    "    # Extract the population value from the record\n",
    "    population = record['Value']\n",
    "    \n",
    "    # Add this information to combined_data using the correct key\n",
    "    combined_data[country]['population'] = population\n"
   ]
  },
  {
   "cell_type": "code",
   "execution_count": 90,
   "metadata": {},
   "outputs": [],
   "source": [
    "assert type(combined_data[\"Uruguay\"]) == dict\n",
    "assert type(combined_data[\"Uruguay\"][\"population\"]) == int\n"
   ]
  },
  {
   "cell_type": "code",
   "execution_count": 91,
   "metadata": {},
   "outputs": [
    {
     "ename": "KeyError",
     "evalue": "'population'",
     "output_type": "error",
     "traceback": [
      "\u001b[1;31m---------------------------------------------------------------------------\u001b[0m",
      "\u001b[1;31mKeyError\u001b[0m                                  Traceback (most recent call last)",
      "\u001b[1;32m<ipython-input-91-046e948bfbfd>\u001b[0m in \u001b[0;36m<module>\u001b[1;34m\u001b[0m\n\u001b[0;32m      1\u001b[0m \u001b[1;31m# Run this cell without changes\u001b[0m\u001b[1;33m\u001b[0m\u001b[1;33m\u001b[0m\u001b[1;33m\u001b[0m\u001b[0m\n\u001b[1;32m----> 2\u001b[1;33m \u001b[0mpopulations\u001b[0m \u001b[1;33m=\u001b[0m \u001b[1;33m[\u001b[0m\u001b[0mval\u001b[0m\u001b[1;33m[\u001b[0m\u001b[1;34m\"population\"\u001b[0m\u001b[1;33m]\u001b[0m \u001b[1;32mfor\u001b[0m \u001b[0mval\u001b[0m \u001b[1;32min\u001b[0m \u001b[0mcombined_data\u001b[0m\u001b[1;33m.\u001b[0m\u001b[0mvalues\u001b[0m\u001b[1;33m(\u001b[0m\u001b[1;33m)\u001b[0m\u001b[1;33m]\u001b[0m\u001b[1;33m\u001b[0m\u001b[1;33m\u001b[0m\u001b[0m\n\u001b[0m\u001b[0;32m      3\u001b[0m \u001b[1;33m\u001b[0m\u001b[0m\n\u001b[0;32m      4\u001b[0m \u001b[0mprint\u001b[0m\u001b[1;33m(\u001b[0m\u001b[1;34m\"Mean population:\"\u001b[0m\u001b[1;33m,\u001b[0m \u001b[0mnp\u001b[0m\u001b[1;33m.\u001b[0m\u001b[0mmean\u001b[0m\u001b[1;33m(\u001b[0m\u001b[0mpopulations\u001b[0m\u001b[1;33m)\u001b[0m\u001b[1;33m)\u001b[0m\u001b[1;33m\u001b[0m\u001b[1;33m\u001b[0m\u001b[0m\n\u001b[0;32m      5\u001b[0m \u001b[0mprint\u001b[0m\u001b[1;33m(\u001b[0m\u001b[1;34m\"Median population:\"\u001b[0m\u001b[1;33m,\u001b[0m \u001b[0mnp\u001b[0m\u001b[1;33m.\u001b[0m\u001b[0mmedian\u001b[0m\u001b[1;33m(\u001b[0m\u001b[0mpopulations\u001b[0m\u001b[1;33m)\u001b[0m\u001b[1;33m)\u001b[0m\u001b[1;33m\u001b[0m\u001b[1;33m\u001b[0m\u001b[0m\n",
      "\u001b[1;32m<ipython-input-91-046e948bfbfd>\u001b[0m in \u001b[0;36m<listcomp>\u001b[1;34m(.0)\u001b[0m\n\u001b[0;32m      1\u001b[0m \u001b[1;31m# Run this cell without changes\u001b[0m\u001b[1;33m\u001b[0m\u001b[1;33m\u001b[0m\u001b[1;33m\u001b[0m\u001b[0m\n\u001b[1;32m----> 2\u001b[1;33m \u001b[0mpopulations\u001b[0m \u001b[1;33m=\u001b[0m \u001b[1;33m[\u001b[0m\u001b[0mval\u001b[0m\u001b[1;33m[\u001b[0m\u001b[1;34m\"population\"\u001b[0m\u001b[1;33m]\u001b[0m \u001b[1;32mfor\u001b[0m \u001b[0mval\u001b[0m \u001b[1;32min\u001b[0m \u001b[0mcombined_data\u001b[0m\u001b[1;33m.\u001b[0m\u001b[0mvalues\u001b[0m\u001b[1;33m(\u001b[0m\u001b[1;33m)\u001b[0m\u001b[1;33m]\u001b[0m\u001b[1;33m\u001b[0m\u001b[1;33m\u001b[0m\u001b[0m\n\u001b[0m\u001b[0;32m      3\u001b[0m \u001b[1;33m\u001b[0m\u001b[0m\n\u001b[0;32m      4\u001b[0m \u001b[0mprint\u001b[0m\u001b[1;33m(\u001b[0m\u001b[1;34m\"Mean population:\"\u001b[0m\u001b[1;33m,\u001b[0m \u001b[0mnp\u001b[0m\u001b[1;33m.\u001b[0m\u001b[0mmean\u001b[0m\u001b[1;33m(\u001b[0m\u001b[0mpopulations\u001b[0m\u001b[1;33m)\u001b[0m\u001b[1;33m)\u001b[0m\u001b[1;33m\u001b[0m\u001b[1;33m\u001b[0m\u001b[0m\n\u001b[0;32m      5\u001b[0m \u001b[0mprint\u001b[0m\u001b[1;33m(\u001b[0m\u001b[1;34m\"Median population:\"\u001b[0m\u001b[1;33m,\u001b[0m \u001b[0mnp\u001b[0m\u001b[1;33m.\u001b[0m\u001b[0mmedian\u001b[0m\u001b[1;33m(\u001b[0m\u001b[0mpopulations\u001b[0m\u001b[1;33m)\u001b[0m\u001b[1;33m)\u001b[0m\u001b[1;33m\u001b[0m\u001b[1;33m\u001b[0m\u001b[0m\n",
      "\u001b[1;31mKeyError\u001b[0m: 'population'"
     ]
    }
   ],
   "source": [
    "# Run this cell without changes\n",
    "populations = [val[\"population\"] for val in combined_data.values()]\n",
    "\n",
    "print(\"Mean population:\", np.mean(populations))\n",
    "print(\"Median population:\", np.median(populations))\n",
    "print(\"Standard deviation of population:\", np.std(populations))"
   ]
  },
  {
   "cell_type": "code",
   "execution_count": 92,
   "metadata": {},
   "outputs": [],
   "source": [
    "import numpy as np\n"
   ]
  },
  {
   "cell_type": "code",
   "execution_count": 93,
   "metadata": {},
   "outputs": [
    {
     "ename": "KeyError",
     "evalue": "'population'",
     "output_type": "error",
     "traceback": [
      "\u001b[1;31m---------------------------------------------------------------------------\u001b[0m",
      "\u001b[1;31mKeyError\u001b[0m                                  Traceback (most recent call last)",
      "\u001b[1;32m<ipython-input-93-046e948bfbfd>\u001b[0m in \u001b[0;36m<module>\u001b[1;34m\u001b[0m\n\u001b[0;32m      1\u001b[0m \u001b[1;31m# Run this cell without changes\u001b[0m\u001b[1;33m\u001b[0m\u001b[1;33m\u001b[0m\u001b[1;33m\u001b[0m\u001b[0m\n\u001b[1;32m----> 2\u001b[1;33m \u001b[0mpopulations\u001b[0m \u001b[1;33m=\u001b[0m \u001b[1;33m[\u001b[0m\u001b[0mval\u001b[0m\u001b[1;33m[\u001b[0m\u001b[1;34m\"population\"\u001b[0m\u001b[1;33m]\u001b[0m \u001b[1;32mfor\u001b[0m \u001b[0mval\u001b[0m \u001b[1;32min\u001b[0m \u001b[0mcombined_data\u001b[0m\u001b[1;33m.\u001b[0m\u001b[0mvalues\u001b[0m\u001b[1;33m(\u001b[0m\u001b[1;33m)\u001b[0m\u001b[1;33m]\u001b[0m\u001b[1;33m\u001b[0m\u001b[1;33m\u001b[0m\u001b[0m\n\u001b[0m\u001b[0;32m      3\u001b[0m \u001b[1;33m\u001b[0m\u001b[0m\n\u001b[0;32m      4\u001b[0m \u001b[0mprint\u001b[0m\u001b[1;33m(\u001b[0m\u001b[1;34m\"Mean population:\"\u001b[0m\u001b[1;33m,\u001b[0m \u001b[0mnp\u001b[0m\u001b[1;33m.\u001b[0m\u001b[0mmean\u001b[0m\u001b[1;33m(\u001b[0m\u001b[0mpopulations\u001b[0m\u001b[1;33m)\u001b[0m\u001b[1;33m)\u001b[0m\u001b[1;33m\u001b[0m\u001b[1;33m\u001b[0m\u001b[0m\n\u001b[0;32m      5\u001b[0m \u001b[0mprint\u001b[0m\u001b[1;33m(\u001b[0m\u001b[1;34m\"Median population:\"\u001b[0m\u001b[1;33m,\u001b[0m \u001b[0mnp\u001b[0m\u001b[1;33m.\u001b[0m\u001b[0mmedian\u001b[0m\u001b[1;33m(\u001b[0m\u001b[0mpopulations\u001b[0m\u001b[1;33m)\u001b[0m\u001b[1;33m)\u001b[0m\u001b[1;33m\u001b[0m\u001b[1;33m\u001b[0m\u001b[0m\n",
      "\u001b[1;32m<ipython-input-93-046e948bfbfd>\u001b[0m in \u001b[0;36m<listcomp>\u001b[1;34m(.0)\u001b[0m\n\u001b[0;32m      1\u001b[0m \u001b[1;31m# Run this cell without changes\u001b[0m\u001b[1;33m\u001b[0m\u001b[1;33m\u001b[0m\u001b[1;33m\u001b[0m\u001b[0m\n\u001b[1;32m----> 2\u001b[1;33m \u001b[0mpopulations\u001b[0m \u001b[1;33m=\u001b[0m \u001b[1;33m[\u001b[0m\u001b[0mval\u001b[0m\u001b[1;33m[\u001b[0m\u001b[1;34m\"population\"\u001b[0m\u001b[1;33m]\u001b[0m \u001b[1;32mfor\u001b[0m \u001b[0mval\u001b[0m \u001b[1;32min\u001b[0m \u001b[0mcombined_data\u001b[0m\u001b[1;33m.\u001b[0m\u001b[0mvalues\u001b[0m\u001b[1;33m(\u001b[0m\u001b[1;33m)\u001b[0m\u001b[1;33m]\u001b[0m\u001b[1;33m\u001b[0m\u001b[1;33m\u001b[0m\u001b[0m\n\u001b[0m\u001b[0;32m      3\u001b[0m \u001b[1;33m\u001b[0m\u001b[0m\n\u001b[0;32m      4\u001b[0m \u001b[0mprint\u001b[0m\u001b[1;33m(\u001b[0m\u001b[1;34m\"Mean population:\"\u001b[0m\u001b[1;33m,\u001b[0m \u001b[0mnp\u001b[0m\u001b[1;33m.\u001b[0m\u001b[0mmean\u001b[0m\u001b[1;33m(\u001b[0m\u001b[0mpopulations\u001b[0m\u001b[1;33m)\u001b[0m\u001b[1;33m)\u001b[0m\u001b[1;33m\u001b[0m\u001b[1;33m\u001b[0m\u001b[0m\n\u001b[0;32m      5\u001b[0m \u001b[0mprint\u001b[0m\u001b[1;33m(\u001b[0m\u001b[1;34m\"Median population:\"\u001b[0m\u001b[1;33m,\u001b[0m \u001b[0mnp\u001b[0m\u001b[1;33m.\u001b[0m\u001b[0mmedian\u001b[0m\u001b[1;33m(\u001b[0m\u001b[0mpopulations\u001b[0m\u001b[1;33m)\u001b[0m\u001b[1;33m)\u001b[0m\u001b[1;33m\u001b[0m\u001b[1;33m\u001b[0m\u001b[0m\n",
      "\u001b[1;31mKeyError\u001b[0m: 'population'"
     ]
    }
   ],
   "source": [
    "# Run this cell without changes\n",
    "populations = [val[\"population\"] for val in combined_data.values()]\n",
    "\n",
    "print(\"Mean population:\", np.mean(populations))\n",
    "print(\"Median population:\", np.median(populations))\n",
    "print(\"Standard deviation of population:\", np.std(populations))\n"
   ]
  },
  {
   "cell_type": "code",
   "execution_count": 94,
   "metadata": {},
   "outputs": [
    {
     "name": "stdout",
     "output_type": "stream",
     "text": [
      "Mean population: 51210916.22580645\n",
      "Median population: 33699947.0\n",
      "Standard deviation of population: 56013468.53188081\n"
     ]
    }
   ],
   "source": [
    "populations = [val[\"population\"] for val in combined_data.values() if \"population\" in val]\n",
    "\n",
    "print(\"Mean population:\", np.mean(populations))\n",
    "print(\"Median population:\", np.median(populations))\n",
    "print(\"Standard deviation of population:\", np.std(populations))\n"
   ]
  },
  {
   "cell_type": "code",
   "execution_count": 95,
   "metadata": {},
   "outputs": [
    {
     "ename": "ValueError",
     "evalue": "shape mismatch: objects cannot be broadcast to a single shape",
     "output_type": "error",
     "traceback": [
      "\u001b[1;31m---------------------------------------------------------------------------\u001b[0m",
      "\u001b[1;31mValueError\u001b[0m                                Traceback (most recent call last)",
      "\u001b[1;32m<ipython-input-95-a01d2cfc5b45>\u001b[0m in \u001b[0;36m<module>\u001b[1;34m\u001b[0m\n\u001b[0;32m     12\u001b[0m \u001b[1;33m\u001b[0m\u001b[0m\n\u001b[0;32m     13\u001b[0m \u001b[1;31m# Horizontal Bar Graph of Population by Country\u001b[0m\u001b[1;33m\u001b[0m\u001b[1;33m\u001b[0m\u001b[1;33m\u001b[0m\u001b[0m\n\u001b[1;32m---> 14\u001b[1;33m \u001b[0max2\u001b[0m\u001b[1;33m.\u001b[0m\u001b[0mbarh\u001b[0m\u001b[1;33m(\u001b[0m\u001b[0mteams\u001b[0m\u001b[1;33m[\u001b[0m\u001b[1;33m:\u001b[0m\u001b[1;33m:\u001b[0m\u001b[1;33m-\u001b[0m\u001b[1;36m1\u001b[0m\u001b[1;33m]\u001b[0m\u001b[1;33m,\u001b[0m \u001b[0mpopulations\u001b[0m\u001b[1;33m[\u001b[0m\u001b[1;33m:\u001b[0m\u001b[1;33m:\u001b[0m\u001b[1;33m-\u001b[0m\u001b[1;36m1\u001b[0m\u001b[1;33m]\u001b[0m\u001b[1;33m,\u001b[0m \u001b[0mcolor\u001b[0m\u001b[1;33m=\u001b[0m\u001b[1;34m\"blue\"\u001b[0m\u001b[1;33m)\u001b[0m\u001b[1;33m\u001b[0m\u001b[1;33m\u001b[0m\u001b[0m\n\u001b[0m\u001b[0;32m     15\u001b[0m \u001b[0max2\u001b[0m\u001b[1;33m.\u001b[0m\u001b[0mset_xlabel\u001b[0m\u001b[1;33m(\u001b[0m\u001b[1;34m\"2018 Population\"\u001b[0m\u001b[1;33m)\u001b[0m\u001b[1;33m\u001b[0m\u001b[1;33m\u001b[0m\u001b[0m\n\u001b[0;32m     16\u001b[0m \u001b[0max2\u001b[0m\u001b[1;33m.\u001b[0m\u001b[0mset_title\u001b[0m\u001b[1;33m(\u001b[0m\u001b[1;34m\"Population by Country\"\u001b[0m\u001b[1;33m)\u001b[0m\u001b[1;33m;\u001b[0m\u001b[1;33m\u001b[0m\u001b[1;33m\u001b[0m\u001b[0m\n",
      "\u001b[1;32m~\\anaconda3\\envs\\learn-env\\lib\\site-packages\\matplotlib\\axes\\_axes.py\u001b[0m in \u001b[0;36mbarh\u001b[1;34m(self, y, width, height, left, align, **kwargs)\u001b[0m\n\u001b[0;32m   2628\u001b[0m         \"\"\"\n\u001b[0;32m   2629\u001b[0m         \u001b[0mkwargs\u001b[0m\u001b[1;33m.\u001b[0m\u001b[0msetdefault\u001b[0m\u001b[1;33m(\u001b[0m\u001b[1;34m'orientation'\u001b[0m\u001b[1;33m,\u001b[0m \u001b[1;34m'horizontal'\u001b[0m\u001b[1;33m)\u001b[0m\u001b[1;33m\u001b[0m\u001b[1;33m\u001b[0m\u001b[0m\n\u001b[1;32m-> 2630\u001b[1;33m         patches = self.bar(x=left, height=height, width=width, bottom=y,\n\u001b[0m\u001b[0;32m   2631\u001b[0m                            align=align, **kwargs)\n\u001b[0;32m   2632\u001b[0m         \u001b[1;32mreturn\u001b[0m \u001b[0mpatches\u001b[0m\u001b[1;33m\u001b[0m\u001b[1;33m\u001b[0m\u001b[0m\n",
      "\u001b[1;32m~\\anaconda3\\envs\\learn-env\\lib\\site-packages\\matplotlib\\__init__.py\u001b[0m in \u001b[0;36minner\u001b[1;34m(ax, data, *args, **kwargs)\u001b[0m\n\u001b[0;32m   1436\u001b[0m     \u001b[1;32mdef\u001b[0m \u001b[0minner\u001b[0m\u001b[1;33m(\u001b[0m\u001b[0max\u001b[0m\u001b[1;33m,\u001b[0m \u001b[1;33m*\u001b[0m\u001b[0margs\u001b[0m\u001b[1;33m,\u001b[0m \u001b[0mdata\u001b[0m\u001b[1;33m=\u001b[0m\u001b[1;32mNone\u001b[0m\u001b[1;33m,\u001b[0m \u001b[1;33m**\u001b[0m\u001b[0mkwargs\u001b[0m\u001b[1;33m)\u001b[0m\u001b[1;33m:\u001b[0m\u001b[1;33m\u001b[0m\u001b[1;33m\u001b[0m\u001b[0m\n\u001b[0;32m   1437\u001b[0m         \u001b[1;32mif\u001b[0m \u001b[0mdata\u001b[0m \u001b[1;32mis\u001b[0m \u001b[1;32mNone\u001b[0m\u001b[1;33m:\u001b[0m\u001b[1;33m\u001b[0m\u001b[1;33m\u001b[0m\u001b[0m\n\u001b[1;32m-> 1438\u001b[1;33m             \u001b[1;32mreturn\u001b[0m \u001b[0mfunc\u001b[0m\u001b[1;33m(\u001b[0m\u001b[0max\u001b[0m\u001b[1;33m,\u001b[0m \u001b[1;33m*\u001b[0m\u001b[0mmap\u001b[0m\u001b[1;33m(\u001b[0m\u001b[0msanitize_sequence\u001b[0m\u001b[1;33m,\u001b[0m \u001b[0margs\u001b[0m\u001b[1;33m)\u001b[0m\u001b[1;33m,\u001b[0m \u001b[1;33m**\u001b[0m\u001b[0mkwargs\u001b[0m\u001b[1;33m)\u001b[0m\u001b[1;33m\u001b[0m\u001b[1;33m\u001b[0m\u001b[0m\n\u001b[0m\u001b[0;32m   1439\u001b[0m \u001b[1;33m\u001b[0m\u001b[0m\n\u001b[0;32m   1440\u001b[0m         \u001b[0mbound\u001b[0m \u001b[1;33m=\u001b[0m \u001b[0mnew_sig\u001b[0m\u001b[1;33m.\u001b[0m\u001b[0mbind\u001b[0m\u001b[1;33m(\u001b[0m\u001b[0max\u001b[0m\u001b[1;33m,\u001b[0m \u001b[1;33m*\u001b[0m\u001b[0margs\u001b[0m\u001b[1;33m,\u001b[0m \u001b[1;33m**\u001b[0m\u001b[0mkwargs\u001b[0m\u001b[1;33m)\u001b[0m\u001b[1;33m\u001b[0m\u001b[1;33m\u001b[0m\u001b[0m\n",
      "\u001b[1;32m~\\anaconda3\\envs\\learn-env\\lib\\site-packages\\matplotlib\\axes\\_axes.py\u001b[0m in \u001b[0;36mbar\u001b[1;34m(self, x, height, width, bottom, align, **kwargs)\u001b[0m\n\u001b[0;32m   2428\u001b[0m                 \u001b[0myerr\u001b[0m \u001b[1;33m=\u001b[0m \u001b[0mself\u001b[0m\u001b[1;33m.\u001b[0m\u001b[0m_convert_dx\u001b[0m\u001b[1;33m(\u001b[0m\u001b[0myerr\u001b[0m\u001b[1;33m,\u001b[0m \u001b[0my0\u001b[0m\u001b[1;33m,\u001b[0m \u001b[0my\u001b[0m\u001b[1;33m,\u001b[0m \u001b[0mself\u001b[0m\u001b[1;33m.\u001b[0m\u001b[0mconvert_yunits\u001b[0m\u001b[1;33m)\u001b[0m\u001b[1;33m\u001b[0m\u001b[1;33m\u001b[0m\u001b[0m\n\u001b[0;32m   2429\u001b[0m \u001b[1;33m\u001b[0m\u001b[0m\n\u001b[1;32m-> 2430\u001b[1;33m         x, height, width, y, linewidth = np.broadcast_arrays(\n\u001b[0m\u001b[0;32m   2431\u001b[0m             \u001b[1;31m# Make args iterable too.\u001b[0m\u001b[1;33m\u001b[0m\u001b[1;33m\u001b[0m\u001b[1;33m\u001b[0m\u001b[0m\n\u001b[0;32m   2432\u001b[0m             np.atleast_1d(x), height, width, y, linewidth)\n",
      "\u001b[1;32m<__array_function__ internals>\u001b[0m in \u001b[0;36mbroadcast_arrays\u001b[1;34m(*args, **kwargs)\u001b[0m\n",
      "\u001b[1;32m~\\anaconda3\\envs\\learn-env\\lib\\site-packages\\numpy\\lib\\stride_tricks.py\u001b[0m in \u001b[0;36mbroadcast_arrays\u001b[1;34m(*args, **kwargs)\u001b[0m\n\u001b[0;32m    262\u001b[0m     \u001b[0margs\u001b[0m \u001b[1;33m=\u001b[0m \u001b[1;33m[\u001b[0m\u001b[0mnp\u001b[0m\u001b[1;33m.\u001b[0m\u001b[0marray\u001b[0m\u001b[1;33m(\u001b[0m\u001b[0m_m\u001b[0m\u001b[1;33m,\u001b[0m \u001b[0mcopy\u001b[0m\u001b[1;33m=\u001b[0m\u001b[1;32mFalse\u001b[0m\u001b[1;33m,\u001b[0m \u001b[0msubok\u001b[0m\u001b[1;33m=\u001b[0m\u001b[0msubok\u001b[0m\u001b[1;33m)\u001b[0m \u001b[1;32mfor\u001b[0m \u001b[0m_m\u001b[0m \u001b[1;32min\u001b[0m \u001b[0margs\u001b[0m\u001b[1;33m]\u001b[0m\u001b[1;33m\u001b[0m\u001b[1;33m\u001b[0m\u001b[0m\n\u001b[0;32m    263\u001b[0m \u001b[1;33m\u001b[0m\u001b[0m\n\u001b[1;32m--> 264\u001b[1;33m     \u001b[0mshape\u001b[0m \u001b[1;33m=\u001b[0m \u001b[0m_broadcast_shape\u001b[0m\u001b[1;33m(\u001b[0m\u001b[1;33m*\u001b[0m\u001b[0margs\u001b[0m\u001b[1;33m)\u001b[0m\u001b[1;33m\u001b[0m\u001b[1;33m\u001b[0m\u001b[0m\n\u001b[0m\u001b[0;32m    265\u001b[0m \u001b[1;33m\u001b[0m\u001b[0m\n\u001b[0;32m    266\u001b[0m     \u001b[1;32mif\u001b[0m \u001b[0mall\u001b[0m\u001b[1;33m(\u001b[0m\u001b[0marray\u001b[0m\u001b[1;33m.\u001b[0m\u001b[0mshape\u001b[0m \u001b[1;33m==\u001b[0m \u001b[0mshape\u001b[0m \u001b[1;32mfor\u001b[0m \u001b[0marray\u001b[0m \u001b[1;32min\u001b[0m \u001b[0margs\u001b[0m\u001b[1;33m)\u001b[0m\u001b[1;33m:\u001b[0m\u001b[1;33m\u001b[0m\u001b[1;33m\u001b[0m\u001b[0m\n",
      "\u001b[1;32m~\\anaconda3\\envs\\learn-env\\lib\\site-packages\\numpy\\lib\\stride_tricks.py\u001b[0m in \u001b[0;36m_broadcast_shape\u001b[1;34m(*args)\u001b[0m\n\u001b[0;32m    189\u001b[0m     \u001b[1;31m# use the old-iterator because np.nditer does not handle size 0 arrays\u001b[0m\u001b[1;33m\u001b[0m\u001b[1;33m\u001b[0m\u001b[1;33m\u001b[0m\u001b[0m\n\u001b[0;32m    190\u001b[0m     \u001b[1;31m# consistently\u001b[0m\u001b[1;33m\u001b[0m\u001b[1;33m\u001b[0m\u001b[1;33m\u001b[0m\u001b[0m\n\u001b[1;32m--> 191\u001b[1;33m     \u001b[0mb\u001b[0m \u001b[1;33m=\u001b[0m \u001b[0mnp\u001b[0m\u001b[1;33m.\u001b[0m\u001b[0mbroadcast\u001b[0m\u001b[1;33m(\u001b[0m\u001b[1;33m*\u001b[0m\u001b[0margs\u001b[0m\u001b[1;33m[\u001b[0m\u001b[1;33m:\u001b[0m\u001b[1;36m32\u001b[0m\u001b[1;33m]\u001b[0m\u001b[1;33m)\u001b[0m\u001b[1;33m\u001b[0m\u001b[1;33m\u001b[0m\u001b[0m\n\u001b[0m\u001b[0;32m    192\u001b[0m     \u001b[1;31m# unfortunately, it cannot handle 32 or more arguments directly\u001b[0m\u001b[1;33m\u001b[0m\u001b[1;33m\u001b[0m\u001b[1;33m\u001b[0m\u001b[0m\n\u001b[0;32m    193\u001b[0m     \u001b[1;32mfor\u001b[0m \u001b[0mpos\u001b[0m \u001b[1;32min\u001b[0m \u001b[0mrange\u001b[0m\u001b[1;33m(\u001b[0m\u001b[1;36m32\u001b[0m\u001b[1;33m,\u001b[0m \u001b[0mlen\u001b[0m\u001b[1;33m(\u001b[0m\u001b[0margs\u001b[0m\u001b[1;33m)\u001b[0m\u001b[1;33m,\u001b[0m \u001b[1;36m31\u001b[0m\u001b[1;33m)\u001b[0m\u001b[1;33m:\u001b[0m\u001b[1;33m\u001b[0m\u001b[1;33m\u001b[0m\u001b[0m\n",
      "\u001b[1;31mValueError\u001b[0m: shape mismatch: objects cannot be broadcast to a single shape"
     ]
    },
    {
     "data": {
      "image/png": "[encoded data removed]",
      "text/plain": [
       "<Figure size 864x504 with 2 Axes>"
      ]
     },
     "metadata": {
      "needs_background": "light"
     },
     "output_type": "display_data"
    }
   ],
   "source": [
    "# Run this cell without changes\n",
    "\n",
    "# Set up figure and axes\n",
    "fig, (ax1, ax2) = plt.subplots(ncols=2, figsize=(12, 7))\n",
    "fig.set_tight_layout(True)\n",
    "\n",
    "# Histogram of Populations and Frequencies\n",
    "ax1.hist(x=populations, color=\"blue\")\n",
    "ax1.set_xlabel(\"2018 Population\")\n",
    "ax1.set_ylabel(\"Frequency\")\n",
    "ax1.set_title(\"Distribution of Population\")\n",
    "\n",
    "# Horizontal Bar Graph of Population by Country\n",
    "ax2.barh(teams[::-1], populations[::-1], color=\"blue\")\n",
    "ax2.set_xlabel(\"2018 Population\")\n",
    "ax2.set_title(\"Population by Country\");"
   ]
  },
  {
   "cell_type": "code",
   "execution_count": 96,
   "metadata": {},
   "outputs": [],
   "source": [
    "# Reconstruct teams and populations together in matching order\n",
    "teams = []\n",
    "populations = []\n",
    "\n",
    "for country, data in combined_data.items():\n",
    "    if 'population' in data:\n",
    "        teams.append(country)\n",
    "        populations.append(data['population'])\n"
   ]
  },
  {
   "cell_type": "code",
   "execution_count": 97,
   "metadata": {},
   "outputs": [
    {
     "data": {
      "image/png": "[encoded data removed]",
      "text/plain": [
       "<Figure size 864x504 with 2 Axes>"
      ]
     },
     "metadata": {
      "needs_background": "light"
     },
     "output_type": "display_data"
    }
   ],
   "source": [
    "# Set up figure and axes\n",
    "fig, (ax1, ax2) = plt.subplots(ncols=2, figsize=(12, 7))\n",
    "fig.set_tight_layout(True)\n",
    "\n",
    "# Histogram of Populations and Frequencies\n",
    "ax1.hist(x=populations, color=\"blue\")\n",
    "ax1.set_xlabel(\"2018 Population\")\n",
    "ax1.set_ylabel(\"Frequency\")\n",
    "ax1.set_title(\"Distribution of Population\")\n",
    "\n",
    "# Horizontal Bar Graph of Population by Country\n",
    "ax2.barh(teams[::-1], populations[::-1], color=\"blue\")\n",
    "ax2.set_xlabel(\"2018 Population\")\n",
    "ax2.set_title(\"Population by Country\");\n"
   ]
  },
  {
   "cell_type": "code",
   "execution_count": 98,
   "metadata": {},
   "outputs": [
    {
     "ename": "ValueError",
     "evalue": "all the input array dimensions for the concatenation axis must match exactly, but along dimension 1, the array at index 0 has size 32 and the array at index 1 has size 31",
     "output_type": "error",
     "traceback": [
      "\u001b[1;31m---------------------------------------------------------------------------\u001b[0m",
      "\u001b[1;31mValueError\u001b[0m                                Traceback (most recent call last)",
      "\u001b[1;32m<ipython-input-98-ea3008a5aea7>\u001b[0m in \u001b[0;36m<module>\u001b[1;34m\u001b[0m\n\u001b[0;32m      1\u001b[0m \u001b[1;31m# Run this cell without changes\u001b[0m\u001b[1;33m\u001b[0m\u001b[1;33m\u001b[0m\u001b[1;33m\u001b[0m\u001b[0m\n\u001b[1;32m----> 2\u001b[1;33m \u001b[0mnp\u001b[0m\u001b[1;33m.\u001b[0m\u001b[0mcorrcoef\u001b[0m\u001b[1;33m(\u001b[0m\u001b[0mwins\u001b[0m\u001b[1;33m,\u001b[0m \u001b[0mpopulations\u001b[0m\u001b[1;33m)\u001b[0m\u001b[1;33m[\u001b[0m\u001b[1;36m0\u001b[0m\u001b[1;33m]\u001b[0m\u001b[1;33m[\u001b[0m\u001b[1;36m1\u001b[0m\u001b[1;33m]\u001b[0m\u001b[1;33m\u001b[0m\u001b[1;33m\u001b[0m\u001b[0m\n\u001b[0m",
      "\u001b[1;32m<__array_function__ internals>\u001b[0m in \u001b[0;36mcorrcoef\u001b[1;34m(*args, **kwargs)\u001b[0m\n",
      "\u001b[1;32m~\\anaconda3\\envs\\learn-env\\lib\\site-packages\\numpy\\lib\\function_base.py\u001b[0m in \u001b[0;36mcorrcoef\u001b[1;34m(x, y, rowvar, bias, ddof)\u001b[0m\n\u001b[0;32m   2524\u001b[0m         warnings.warn('bias and ddof have no effect and are deprecated',\n\u001b[0;32m   2525\u001b[0m                       DeprecationWarning, stacklevel=3)\n\u001b[1;32m-> 2526\u001b[1;33m     \u001b[0mc\u001b[0m \u001b[1;33m=\u001b[0m \u001b[0mcov\u001b[0m\u001b[1;33m(\u001b[0m\u001b[0mx\u001b[0m\u001b[1;33m,\u001b[0m \u001b[0my\u001b[0m\u001b[1;33m,\u001b[0m \u001b[0mrowvar\u001b[0m\u001b[1;33m)\u001b[0m\u001b[1;33m\u001b[0m\u001b[1;33m\u001b[0m\u001b[0m\n\u001b[0m\u001b[0;32m   2527\u001b[0m     \u001b[1;32mtry\u001b[0m\u001b[1;33m:\u001b[0m\u001b[1;33m\u001b[0m\u001b[1;33m\u001b[0m\u001b[0m\n\u001b[0;32m   2528\u001b[0m         \u001b[0md\u001b[0m \u001b[1;33m=\u001b[0m \u001b[0mdiag\u001b[0m\u001b[1;33m(\u001b[0m\u001b[0mc\u001b[0m\u001b[1;33m)\u001b[0m\u001b[1;33m\u001b[0m\u001b[1;33m\u001b[0m\u001b[0m\n",
      "\u001b[1;32m<__array_function__ internals>\u001b[0m in \u001b[0;36mcov\u001b[1;34m(*args, **kwargs)\u001b[0m\n",
      "\u001b[1;32m~\\anaconda3\\envs\\learn-env\\lib\\site-packages\\numpy\\lib\\function_base.py\u001b[0m in \u001b[0;36mcov\u001b[1;34m(m, y, rowvar, bias, ddof, fweights, aweights)\u001b[0m\n\u001b[0;32m   2388\u001b[0m         \u001b[1;32mif\u001b[0m \u001b[1;32mnot\u001b[0m \u001b[0mrowvar\u001b[0m \u001b[1;32mand\u001b[0m \u001b[0my\u001b[0m\u001b[1;33m.\u001b[0m\u001b[0mshape\u001b[0m\u001b[1;33m[\u001b[0m\u001b[1;36m0\u001b[0m\u001b[1;33m]\u001b[0m \u001b[1;33m!=\u001b[0m \u001b[1;36m1\u001b[0m\u001b[1;33m:\u001b[0m\u001b[1;33m\u001b[0m\u001b[1;33m\u001b[0m\u001b[0m\n\u001b[0;32m   2389\u001b[0m             \u001b[0my\u001b[0m \u001b[1;33m=\u001b[0m \u001b[0my\u001b[0m\u001b[1;33m.\u001b[0m\u001b[0mT\u001b[0m\u001b[1;33m\u001b[0m\u001b[1;33m\u001b[0m\u001b[0m\n\u001b[1;32m-> 2390\u001b[1;33m         \u001b[0mX\u001b[0m \u001b[1;33m=\u001b[0m \u001b[0mnp\u001b[0m\u001b[1;33m.\u001b[0m\u001b[0mconcatenate\u001b[0m\u001b[1;33m(\u001b[0m\u001b[1;33m(\u001b[0m\u001b[0mX\u001b[0m\u001b[1;33m,\u001b[0m \u001b[0my\u001b[0m\u001b[1;33m)\u001b[0m\u001b[1;33m,\u001b[0m \u001b[0maxis\u001b[0m\u001b[1;33m=\u001b[0m\u001b[1;36m0\u001b[0m\u001b[1;33m)\u001b[0m\u001b[1;33m\u001b[0m\u001b[1;33m\u001b[0m\u001b[0m\n\u001b[0m\u001b[0;32m   2391\u001b[0m \u001b[1;33m\u001b[0m\u001b[0m\n\u001b[0;32m   2392\u001b[0m     \u001b[1;32mif\u001b[0m \u001b[0mddof\u001b[0m \u001b[1;32mis\u001b[0m \u001b[1;32mNone\u001b[0m\u001b[1;33m:\u001b[0m\u001b[1;33m\u001b[0m\u001b[1;33m\u001b[0m\u001b[0m\n",
      "\u001b[1;32m<__array_function__ internals>\u001b[0m in \u001b[0;36mconcatenate\u001b[1;34m(*args, **kwargs)\u001b[0m\n",
      "\u001b[1;31mValueError\u001b[0m: all the input array dimensions for the concatenation axis must match exactly, but along dimension 1, the array at index 0 has size 32 and the array at index 1 has size 31"
     ]
    }
   ],
   "source": [
    "# Run this cell without changes\n",
    "np.corrcoef(wins, populations)[0][1]"
   ]
  },
  {
   "cell_type": "code",
   "execution_count": 99,
   "metadata": {},
   "outputs": [],
   "source": [
    "wins = []\n",
    "populations = []\n",
    "\n",
    "for country, data in combined_data.items():\n",
    "    if \"population\" in data:\n",
    "        wins.append(data[\"wins\"])\n",
    "        populations.append(data[\"population\"])\n"
   ]
  },
  {
   "cell_type": "code",
   "execution_count": 100,
   "metadata": {},
   "outputs": [
    {
     "data": {
      "text/plain": [
       "0.06883930697545461"
      ]
     },
     "execution_count": 100,
     "metadata": {},
     "output_type": "execute_result"
    }
   ],
   "source": [
    "# Run this cell without changes\n",
    "np.corrcoef(wins, populations)[0][1]"
   ]
  },
  {
   "cell_type": "code",
   "execution_count": 101,
   "metadata": {},
   "outputs": [
    {
     "data": {
      "text/plain": [
       "\"\\nThe correlation coefficient is close to 0, indicating a very weak or no linear relationship \\nbetween a country's population and its number of wins in the 2018 World Cup.\\n\\nThis means that having a larger population did not strongly predict more match wins — \\ncountries with small populations (like Croatia or Uruguay) could perform very well, \\nwhile large-population countries (like Nigeria or Brazil) didn't necessarily win more.\\n\\nIn short, the direction of the correlation is close to neutral, and the strength is weak.\\n\""
      ]
     },
     "execution_count": 101,
     "metadata": {},
     "output_type": "execute_result"
    }
   ],
   "source": [
    "\"\"\"\n",
    "The correlation coefficient is close to 0, indicating a very weak or no linear relationship \n",
    "between a country's population and its number of wins in the 2018 World Cup.\n",
    "\n",
    "This means that having a larger population did not strongly predict more match wins — \n",
    "countries with small populations (like Croatia or Uruguay) could perform very well, \n",
    "while large-population countries (like Nigeria or Brazil) didn't necessarily win more.\n",
    "\n",
    "In short, the direction of the correlation is close to neutral, and the strength is weak.\n",
    "\"\"\"\n"
   ]
  },
  {
   "cell_type": "code",
   "execution_count": 102,
   "metadata": {},
   "outputs": [
    {
     "data": {
      "image/png": "[encoded data removed]",
      "text/plain": [
       "<Figure size 576x360 with 1 Axes>"
      ]
     },
     "metadata": {
      "needs_background": "light"
     },
     "output_type": "display_data"
    }
   ],
   "source": [
    "# Run this cell without changes\n",
    "\n",
    "# Set up figure\n",
    "fig, ax = plt.subplots(figsize=(8, 5))\n",
    "\n",
    "# Basic scatter plot\n",
    "ax.scatter(x=populations, y=wins, color=\"gray\", alpha=0.5, s=100)\n",
    "ax.set_xlabel(\"2018 Population\")\n",
    "ax.set_ylabel(\"2018 World Cup Wins\")\n",
    "ax.set_title(\"Population vs. World Cup Wins\")\n",
    "\n",
    "# Add annotations for specific points of interest\n",
    "highlighted_points = {\n",
    "    \"Belgium\": 2,  # Numbers are the index of that\n",
    "    \"Brazil\": 3,  # country in populations & wins\n",
    "    \"France\": 10,\n",
    "    \"Nigeria\": 17,\n",
    "}\n",
    "for country, index in highlighted_points.items():\n",
    "    # Get x and y position of data point\n",
    "    x = populations[index]\n",
    "    y = wins[index]\n",
    "    # Move each point slightly down and to the left\n",
    "    # (numbers were chosen by manually tweaking)\n",
    "    xtext = x - (1.25e6 * len(country))\n",
    "    ytext = y - 0.5\n",
    "    # Annotate with relevant arguments\n",
    "    ax.annotate(text=country, xy=(x, y), xytext=(xtext, ytext))"
   ]
  },
  {
   "cell_type": "code",
   "execution_count": 103,
   "metadata": {},
   "outputs": [
    {
     "data": {
      "text/plain": [
       "'\\nThe plot shows that there is no clear visual trend or pattern between population size and number of wins. \\nCountries with both large and small populations are spread across the range of wins.\\n\\nFor example, countries like Russia and Croatia (with relatively small populations) achieved multiple wins, \\nwhile some countries with very large populations, like Brazil and Nigeria, had fewer wins.\\n\\nThis visual observation aligns with the earlier statistical finding: a correlation coefficient close to zero, \\nindicating a weak or no linear relationship between population size and World Cup performance.\\n\\nIt also aligns with the map from the start of the lab, which showed that high performance was not limited \\nto highly populous countries — team strength, infrastructure, and football culture likely play a larger role \\nthan population size alone.\\n'"
      ]
     },
     "execution_count": 103,
     "metadata": {},
     "output_type": "execute_result"
    }
   ],
   "source": [
    "\"\"\"\n",
    "The plot shows that there is no clear visual trend or pattern between population size and number of wins. \n",
    "Countries with both large and small populations are spread across the range of wins.\n",
    "\n",
    "For example, countries like Russia and Croatia (with relatively small populations) achieved multiple wins, \n",
    "while some countries with very large populations, like Brazil and Nigeria, had fewer wins.\n",
    "\n",
    "This visual observation aligns with the earlier statistical finding: a correlation coefficient close to zero, \n",
    "indicating a weak or no linear relationship between population size and World Cup performance.\n",
    "\n",
    "It also aligns with the map from the start of the lab, which showed that high performance was not limited \n",
    "to highly populous countries — team strength, infrastructure, and football culture likely play a larger role \n",
    "than population size alone.\n",
    "\"\"\"\n"
   ]
  },
  {
   "cell_type": "code",
   "execution_count": 104,
   "metadata": {},
   "outputs": [
    {
     "data": {
      "text/plain": [
       "\"\\nThe weakly positive relationship suggests that while population size might have some influence on a country's potential talent pool, it is not a strong predictor of World Cup success. This could be because factors such as football infrastructure, coaching quality, investment in youth development, cultural emphasis on soccer, and experience play a much larger role in determining performance.\\n\\nCountries with smaller populations but strong football programs, like Croatia and Uruguay, have shown excellent results, indicating that efficient talent development and team strategy can overcome the limitations of population size.\\n\\nNext, I would research other factors that might explain World Cup performance better, such as GDP per capita, investment in sports, historical success in international football, or FIFA rankings. It might also be insightful to analyze team statistics like possession, shots on goal, or defensive strength to see how they correlate with wins.\\n\\nAdditionally, I would consider qualitative factors such as coaching staff experience, player fitness, and even political or social stability during the tournament period to build a more comprehensive understanding.\\n\""
      ]
     },
     "execution_count": 104,
     "metadata": {},
     "output_type": "execute_result"
    }
   ],
   "source": [
    "\"\"\"\n",
    "The weakly positive relationship suggests that while population size might have some influence on a country's potential talent pool, it is not a strong predictor of World Cup success. This could be because factors such as football infrastructure, coaching quality, investment in youth development, cultural emphasis on soccer, and experience play a much larger role in determining performance.\n",
    "\n",
    "Countries with smaller populations but strong football programs, like Croatia and Uruguay, have shown excellent results, indicating that efficient talent development and team strategy can overcome the limitations of population size.\n",
    "\n",
    "Next, I would research other factors that might explain World Cup performance better, such as GDP per capita, investment in sports, historical success in international football, or FIFA rankings. It might also be insightful to analyze team statistics like possession, shots on goal, or defensive strength to see how they correlate with wins.\n",
    "\n",
    "Additionally, I would consider qualitative factors such as coaching staff experience, player fitness, and even political or social stability during the tournament period to build a more comprehensive understanding.\n",
    "\"\"\"\n"
   ]
  },
  {
   "cell_type": "code",
   "execution_count": null,
   "metadata": {},
   "outputs": [],
   "source": []
  }
 ],
 "metadata": {
  "kernelspec": {
   "display_name": "Python (learn-env)",
   "language": "python",
   "name": "learn-env"
  },
  "language_info": {
   "codemirror_mode": {
    "name": "ipython",
    "version": 3
   },
   "file_extension": ".py",
   "mimetype": "text/x-python",
   "name": "python",
   "nbconvert_exporter": "python",
   "pygments_lexer": "ipython3",
   "version": "3.8.5"
  }
 },
 "nbformat": 4,
 "nbformat_minor": 4
}
